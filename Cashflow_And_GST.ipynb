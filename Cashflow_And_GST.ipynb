{
 "cells": [
  {
   "cell_type": "code",
   "execution_count": 1,
   "metadata": {},
   "outputs": [],
   "source": [
    "import pandas as pd\n",
    "import numpy as np\n"
   ]
  },
  {
   "cell_type": "code",
   "execution_count": 2,
   "metadata": {},
   "outputs": [
    {
     "data": {
      "text/html": [
       "<div>\n",
       "<style scoped>\n",
       "    .dataframe tbody tr th:only-of-type {\n",
       "        vertical-align: middle;\n",
       "    }\n",
       "\n",
       "    .dataframe tbody tr th {\n",
       "        vertical-align: top;\n",
       "    }\n",
       "\n",
       "    .dataframe thead th {\n",
       "        text-align: right;\n",
       "    }\n",
       "</style>\n",
       "<table border=\"1\" class=\"dataframe\">\n",
       "  <thead>\n",
       "    <tr style=\"text-align: right;\">\n",
       "      <th></th>\n",
       "      <th>Month</th>\n",
       "      <th>No_of_Banks_live_on_BHIM</th>\n",
       "      <th>Volume_in_Mn</th>\n",
       "      <th>Value_in_Cr</th>\n",
       "    </tr>\n",
       "  </thead>\n",
       "  <tbody>\n",
       "    <tr>\n",
       "      <th>0</th>\n",
       "      <td>Aug-2023</td>\n",
       "      <td>360</td>\n",
       "      <td>24.32</td>\n",
       "      <td>7742.34</td>\n",
       "    </tr>\n",
       "    <tr>\n",
       "      <th>1</th>\n",
       "      <td>Jul-2023</td>\n",
       "      <td>282</td>\n",
       "      <td>24.66</td>\n",
       "      <td>8201.86</td>\n",
       "    </tr>\n",
       "    <tr>\n",
       "      <th>2</th>\n",
       "      <td>Jun-2023</td>\n",
       "      <td>282</td>\n",
       "      <td>22.9</td>\n",
       "      <td>7258.64</td>\n",
       "    </tr>\n",
       "    <tr>\n",
       "      <th>3</th>\n",
       "      <td>May-2023</td>\n",
       "      <td>280</td>\n",
       "      <td>22.8</td>\n",
       "      <td>7189.16</td>\n",
       "    </tr>\n",
       "    <tr>\n",
       "      <th>4</th>\n",
       "      <td>April-2023</td>\n",
       "      <td>277</td>\n",
       "      <td>23.61</td>\n",
       "      <td>7349.81</td>\n",
       "    </tr>\n",
       "    <tr>\n",
       "      <th>5</th>\n",
       "      <td>March-2023</td>\n",
       "      <td>274</td>\n",
       "      <td>23.53</td>\n",
       "      <td>7480.69</td>\n",
       "    </tr>\n",
       "    <tr>\n",
       "      <th>6</th>\n",
       "      <td>February-2023</td>\n",
       "      <td>273</td>\n",
       "      <td>23.06</td>\n",
       "      <td>7140.91</td>\n",
       "    </tr>\n",
       "    <tr>\n",
       "      <th>7</th>\n",
       "      <td>January-2023</td>\n",
       "      <td>272</td>\n",
       "      <td>24.79</td>\n",
       "      <td>8145.17</td>\n",
       "    </tr>\n",
       "    <tr>\n",
       "      <th>8</th>\n",
       "      <td>December-2022</td>\n",
       "      <td>272</td>\n",
       "      <td>25.31</td>\n",
       "      <td>8379.11</td>\n",
       "    </tr>\n",
       "    <tr>\n",
       "      <th>9</th>\n",
       "      <td>November-2022</td>\n",
       "      <td>269</td>\n",
       "      <td>24.83</td>\n",
       "      <td>8125.93</td>\n",
       "    </tr>\n",
       "    <tr>\n",
       "      <th>10</th>\n",
       "      <td>October-2022</td>\n",
       "      <td>267</td>\n",
       "      <td>25.36</td>\n",
       "      <td>8508.14</td>\n",
       "    </tr>\n",
       "    <tr>\n",
       "      <th>11</th>\n",
       "      <td>September-2022</td>\n",
       "      <td>263</td>\n",
       "      <td>25.02</td>\n",
       "      <td>8291.78</td>\n",
       "    </tr>\n",
       "    <tr>\n",
       "      <th>12</th>\n",
       "      <td>August-2022</td>\n",
       "      <td>262</td>\n",
       "      <td>24.83</td>\n",
       "      <td>7843.39</td>\n",
       "    </tr>\n",
       "    <tr>\n",
       "      <th>13</th>\n",
       "      <td>July-2022</td>\n",
       "      <td>258</td>\n",
       "      <td>24.32</td>\n",
       "      <td>7806.3</td>\n",
       "    </tr>\n",
       "    <tr>\n",
       "      <th>14</th>\n",
       "      <td>June-2022</td>\n",
       "      <td>253</td>\n",
       "      <td>22.5</td>\n",
       "      <td>7515.5</td>\n",
       "    </tr>\n",
       "    <tr>\n",
       "      <th>15</th>\n",
       "      <td>May-2022</td>\n",
       "      <td>247</td>\n",
       "      <td>26.47</td>\n",
       "      <td>9545.76</td>\n",
       "    </tr>\n",
       "    <tr>\n",
       "      <th>16</th>\n",
       "      <td>April-2022</td>\n",
       "      <td>245</td>\n",
       "      <td>25.6</td>\n",
       "      <td>8342.24</td>\n",
       "    </tr>\n",
       "    <tr>\n",
       "      <th>17</th>\n",
       "      <td>March-2022</td>\n",
       "      <td>241</td>\n",
       "      <td>24.79</td>\n",
       "      <td>8038.24</td>\n",
       "    </tr>\n",
       "    <tr>\n",
       "      <th>18</th>\n",
       "      <td>February-2022</td>\n",
       "      <td>238</td>\n",
       "      <td>23.18</td>\n",
       "      <td>7881.56</td>\n",
       "    </tr>\n",
       "    <tr>\n",
       "      <th>19</th>\n",
       "      <td>January-2022</td>\n",
       "      <td>225</td>\n",
       "      <td>25.74</td>\n",
       "      <td>8500.79</td>\n",
       "    </tr>\n",
       "  </tbody>\n",
       "</table>\n",
       "</div>"
      ],
      "text/plain": [
       "             Month No_of_Banks_live_on_BHIM Volume_in_Mn Value_in_Cr\n",
       "0         Aug-2023                      360        24.32     7742.34\n",
       "1         Jul-2023                      282        24.66     8201.86\n",
       "2         Jun-2023                      282         22.9     7258.64\n",
       "3         May-2023                      280         22.8     7189.16\n",
       "4       April-2023                      277        23.61     7349.81\n",
       "5       March-2023                      274        23.53     7480.69\n",
       "6    February-2023                      273        23.06     7140.91\n",
       "7     January-2023                      272        24.79     8145.17\n",
       "8    December-2022                      272        25.31     8379.11\n",
       "9    November-2022                      269        24.83     8125.93\n",
       "10    October-2022                      267        25.36     8508.14\n",
       "11  September-2022                      263        25.02     8291.78\n",
       "12     August-2022                      262        24.83     7843.39\n",
       "13       July-2022                      258        24.32      7806.3\n",
       "14       June-2022                      253         22.5      7515.5\n",
       "15        May-2022                      247        26.47     9545.76\n",
       "16      April-2022                      245         25.6     8342.24\n",
       "17      March-2022                      241        24.79     8038.24\n",
       "18   February-2022                      238        23.18     7881.56\n",
       "19    January-2022                      225        25.74     8500.79"
      ]
     },
     "execution_count": 2,
     "metadata": {},
     "output_type": "execute_result"
    }
   ],
   "source": [
    "df=pd.read_csv('./DataCleaning/BHIM_PRODUCT_ANAYSIS_TILL_DATE.csv')\n",
    "df[0:20]"
   ]
  },
  {
   "cell_type": "code",
   "execution_count": 3,
   "metadata": {},
   "outputs": [
    {
     "name": "stdout",
     "output_type": "stream",
     "text": [
      "<class 'pandas.core.frame.DataFrame'>\n",
      "RangeIndex: 89 entries, 0 to 88\n",
      "Data columns (total 4 columns):\n",
      " #   Column                    Non-Null Count  Dtype \n",
      "---  ------                    --------------  ----- \n",
      " 0   Month                     89 non-null     object\n",
      " 1   No_of_Banks_live_on_BHIM  89 non-null     object\n",
      " 2   Volume_in_Mn              89 non-null     object\n",
      " 3   Value_in_Cr               89 non-null     object\n",
      "dtypes: object(4)\n",
      "memory usage: 2.9+ KB\n"
     ]
    }
   ],
   "source": [
    "df.info()"
   ]
  },
  {
   "cell_type": "code",
   "execution_count": 4,
   "metadata": {},
   "outputs": [
    {
     "data": {
      "text/plain": [
       "<bound method NDFrame.describe of           Month No_of_Banks_live_on_BHIM Volume_in_Mn Value_in_Cr\n",
       "0      Aug-2023                      360        24.32     7742.34\n",
       "1      Jul-2023                      282        24.66     8201.86\n",
       "2      Jun-2023                      282         22.9     7258.64\n",
       "3      May-2023                      280         22.8     7189.16\n",
       "4    April-2023                      277        23.61     7349.81\n",
       "..          ...                      ...          ...         ...\n",
       "84  August-2016                        -            -           -\n",
       "85    July-2016                        -            -           -\n",
       "86    June-2016                        -            -           -\n",
       "87     May-2016                        -            -           -\n",
       "88   April-2016                        -            -           -\n",
       "\n",
       "[89 rows x 4 columns]>"
      ]
     },
     "execution_count": 4,
     "metadata": {},
     "output_type": "execute_result"
    }
   ],
   "source": [
    "df.describe"
   ]
  },
  {
   "cell_type": "code",
   "execution_count": 6,
   "metadata": {},
   "outputs": [],
   "source": [
    "import pandas as pd\n",
    "import numpy as np\n",
    "import os"
   ]
  },
  {
   "cell_type": "markdown",
   "metadata": {},
   "source": [
    "Here we have seen that the as the Year passes the number of cash or liquidity have increases due to the strong value of ruppee "
   ]
  },
  {
   "cell_type": "code",
   "execution_count": 7,
   "metadata": {},
   "outputs": [
    {
     "data": {
      "text/plain": [
       "['2018.xlsx', '2019.xlsx', '2020.xlsx', '2021.xlsx', '2022.xlsx', '2023.xlsx']"
      ]
     },
     "execution_count": 7,
     "metadata": {},
     "output_type": "execute_result"
    }
   ],
   "source": [
    "folder_path = 'GSTCollection'\n",
    "data_frames = []\n",
    "files = os.listdir(folder_path)\n",
    "files.sort()\n",
    "files"
   ]
  },
  {
   "cell_type": "markdown",
   "metadata": {},
   "source": [
    "Taking out the insights from GST collection "
   ]
  },
  {
   "cell_type": "code",
   "execution_count": 8,
   "metadata": {},
   "outputs": [
    {
     "data": {
      "text/plain": [
       "['./GSTCollection\\\\2018.xlsx',\n",
       " './GSTCollection\\\\2019.xlsx',\n",
       " './GSTCollection\\\\2020.xlsx',\n",
       " './GSTCollection\\\\2021.xlsx',\n",
       " './GSTCollection\\\\2022.xlsx',\n",
       " './GSTCollection\\\\2023.xlsx']"
      ]
     },
     "execution_count": 8,
     "metadata": {},
     "output_type": "execute_result"
    }
   ],
   "source": [
    "import glob\n",
    "csv_files = glob.glob('./GSTCollection//*.xlsx')\n",
    "csv_files "
   ]
  },
  {
   "cell_type": "code",
   "execution_count": 9,
   "metadata": {},
   "outputs": [
    {
     "name": "stdout",
     "output_type": "stream",
     "text": [
      "2018.xlsx\n",
      "2019.xlsx\n",
      "2020.xlsx\n",
      "2021.xlsx\n",
      "2022.xlsx\n",
      "2023.xlsx\n"
     ]
    }
   ],
   "source": [
    "for file in files:\n",
    "    print(file)\n",
    "    if file.endswith('.xlsx'):\n",
    "        file_path = os.path.join(folder_path, file)\n",
    "        df = pd.read_excel(file_path)\n",
    "        data_frames.append(df)"
   ]
  },
  {
   "cell_type": "code",
   "execution_count": 10,
   "metadata": {},
   "outputs": [],
   "source": [
    "gst=[]\n",
    "for i in range(len(data_frames)):\n",
    "    gst.append(data_frames[i].iloc[41,0])"
   ]
  },
  {
   "cell_type": "code",
   "execution_count": 11,
   "metadata": {},
   "outputs": [
    {
     "data": {
      "image/png": "[encoded data removed]",
      "text/plain": [
       "<Figure size 1440x720 with 1 Axes>"
      ]
     },
     "metadata": {
      "needs_background": "light"
     },
     "output_type": "display_data"
    }
   ],
   "source": [
    "import matplotlib.pyplot as plt\n",
    "year=['2018','2019','2020','2021','2022','2023']\n",
    "plt.figure(figsize=(20,10))\n",
    "plt.plot(year,gst)\n",
    "plt.xticks(rotation=90)\n",
    "plt.show()"
   ]
  },
  {
   "cell_type": "markdown",
   "metadata": {},
   "source": [
    "By seeing the graph it is clearly seen that with the increase in digital transaction GST collection also increases due to white money more flodding into the indian market"
   ]
  }
 ],
 "metadata": {
  "kernelspec": {
   "display_name": "Python 3",
   "language": "python",
   "name": "python3"
  },
  "language_info": {
   "codemirror_mode": {
    "name": "ipython",
    "version": 3
   },
   "file_extension": ".py",
   "mimetype": "text/x-python",
   "name": "python",
   "nbconvert_exporter": "python",
   "pygments_lexer": "ipython3",
   "version": "3.10.11"
  },
  "orig_nbformat": 4
 },
 "nbformat": 4,
 "nbformat_minor": 2
}
