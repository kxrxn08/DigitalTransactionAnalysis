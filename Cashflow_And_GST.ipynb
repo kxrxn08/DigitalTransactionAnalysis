{
 "cells": [
  {
   "cell_type": "code",
   "execution_count": 1,
   "metadata": {},
   "outputs": [],
   "source": [
    "import pandas as pd\n",
    "import numpy as np\n"
   ]
  },
  {
   "cell_type": "code",
   "execution_count": 3,
   "metadata": {},
   "outputs": [
    {
     "data": {
      "text/html": [
       "<div>\n",
       "<style scoped>\n",
       "    .dataframe tbody tr th:only-of-type {\n",
       "        vertical-align: middle;\n",
       "    }\n",
       "\n",
       "    .dataframe tbody tr th {\n",
       "        vertical-align: top;\n",
       "    }\n",
       "\n",
       "    .dataframe thead th {\n",
       "        text-align: right;\n",
       "    }\n",
       "</style>\n",
       "<table border=\"1\" class=\"dataframe\">\n",
       "  <thead>\n",
       "    <tr style=\"text-align: right;\">\n",
       "      <th></th>\n",
       "      <th>Unnamed: 0</th>\n",
       "      <th>Month</th>\n",
       "      <th>No_of_Banks_live_on_BHIM</th>\n",
       "      <th>Volume_in_Mn</th>\n",
       "      <th>Value_in_Cr</th>\n",
       "    </tr>\n",
       "  </thead>\n",
       "  <tbody>\n",
       "    <tr>\n",
       "      <th>0</th>\n",
       "      <td>0</td>\n",
       "      <td>Aug-2023</td>\n",
       "      <td>360</td>\n",
       "      <td>24.32</td>\n",
       "      <td>7,742.34</td>\n",
       "    </tr>\n",
       "    <tr>\n",
       "      <th>1</th>\n",
       "      <td>1</td>\n",
       "      <td>Jul-2023</td>\n",
       "      <td>282</td>\n",
       "      <td>24.66</td>\n",
       "      <td>8,201.86</td>\n",
       "    </tr>\n",
       "    <tr>\n",
       "      <th>2</th>\n",
       "      <td>2</td>\n",
       "      <td>Jun-2023</td>\n",
       "      <td>282</td>\n",
       "      <td>22.90</td>\n",
       "      <td>7,258.64</td>\n",
       "    </tr>\n",
       "    <tr>\n",
       "      <th>3</th>\n",
       "      <td>3</td>\n",
       "      <td>May-2023</td>\n",
       "      <td>280</td>\n",
       "      <td>22.80</td>\n",
       "      <td>7,189.16</td>\n",
       "    </tr>\n",
       "    <tr>\n",
       "      <th>4</th>\n",
       "      <td>4</td>\n",
       "      <td>April-2023</td>\n",
       "      <td>277</td>\n",
       "      <td>23.61</td>\n",
       "      <td>7,349.81</td>\n",
       "    </tr>\n",
       "    <tr>\n",
       "      <th>5</th>\n",
       "      <td>5</td>\n",
       "      <td>March-2023</td>\n",
       "      <td>274</td>\n",
       "      <td>23.53</td>\n",
       "      <td>7,480.69</td>\n",
       "    </tr>\n",
       "    <tr>\n",
       "      <th>6</th>\n",
       "      <td>6</td>\n",
       "      <td>February-2023</td>\n",
       "      <td>273</td>\n",
       "      <td>23.06</td>\n",
       "      <td>7,140.91</td>\n",
       "    </tr>\n",
       "    <tr>\n",
       "      <th>7</th>\n",
       "      <td>7</td>\n",
       "      <td>January-2023</td>\n",
       "      <td>272</td>\n",
       "      <td>24.79</td>\n",
       "      <td>8,145.17</td>\n",
       "    </tr>\n",
       "    <tr>\n",
       "      <th>8</th>\n",
       "      <td>8</td>\n",
       "      <td>December-2022</td>\n",
       "      <td>272</td>\n",
       "      <td>25.31</td>\n",
       "      <td>8,379.11</td>\n",
       "    </tr>\n",
       "    <tr>\n",
       "      <th>9</th>\n",
       "      <td>9</td>\n",
       "      <td>November-2022</td>\n",
       "      <td>269</td>\n",
       "      <td>24.83</td>\n",
       "      <td>8125.93</td>\n",
       "    </tr>\n",
       "    <tr>\n",
       "      <th>10</th>\n",
       "      <td>10</td>\n",
       "      <td>October-2022</td>\n",
       "      <td>267</td>\n",
       "      <td>25.36</td>\n",
       "      <td>8,508.14</td>\n",
       "    </tr>\n",
       "    <tr>\n",
       "      <th>11</th>\n",
       "      <td>11</td>\n",
       "      <td>September-2022</td>\n",
       "      <td>263</td>\n",
       "      <td>25.02</td>\n",
       "      <td>8,291.78</td>\n",
       "    </tr>\n",
       "    <tr>\n",
       "      <th>12</th>\n",
       "      <td>12</td>\n",
       "      <td>August-2022</td>\n",
       "      <td>262</td>\n",
       "      <td>24.83</td>\n",
       "      <td>7,843.39</td>\n",
       "    </tr>\n",
       "    <tr>\n",
       "      <th>13</th>\n",
       "      <td>13</td>\n",
       "      <td>July-2022</td>\n",
       "      <td>258</td>\n",
       "      <td>24.32</td>\n",
       "      <td>7,806.30</td>\n",
       "    </tr>\n",
       "    <tr>\n",
       "      <th>14</th>\n",
       "      <td>14</td>\n",
       "      <td>June-2022</td>\n",
       "      <td>253</td>\n",
       "      <td>22.5</td>\n",
       "      <td>7,515.50</td>\n",
       "    </tr>\n",
       "    <tr>\n",
       "      <th>15</th>\n",
       "      <td>15</td>\n",
       "      <td>May-2022</td>\n",
       "      <td>247</td>\n",
       "      <td>26.47</td>\n",
       "      <td>9,545.76</td>\n",
       "    </tr>\n",
       "    <tr>\n",
       "      <th>16</th>\n",
       "      <td>16</td>\n",
       "      <td>April-2022</td>\n",
       "      <td>245</td>\n",
       "      <td>25.6</td>\n",
       "      <td>8,342.24</td>\n",
       "    </tr>\n",
       "    <tr>\n",
       "      <th>17</th>\n",
       "      <td>17</td>\n",
       "      <td>March-2022</td>\n",
       "      <td>241</td>\n",
       "      <td>24.79</td>\n",
       "      <td>8,038.24</td>\n",
       "    </tr>\n",
       "    <tr>\n",
       "      <th>18</th>\n",
       "      <td>18</td>\n",
       "      <td>February-2022</td>\n",
       "      <td>238</td>\n",
       "      <td>23.18</td>\n",
       "      <td>7,881.56</td>\n",
       "    </tr>\n",
       "    <tr>\n",
       "      <th>19</th>\n",
       "      <td>19</td>\n",
       "      <td>January-2022</td>\n",
       "      <td>225</td>\n",
       "      <td>25.74</td>\n",
       "      <td>8,500.79</td>\n",
       "    </tr>\n",
       "  </tbody>\n",
       "</table>\n",
       "</div>"
      ],
      "text/plain": [
       "    Unnamed: 0           Month No_of_Banks_live_on_BHIM Volume_in_Mn  \\\n",
       "0            0        Aug-2023                      360        24.32   \n",
       "1            1        Jul-2023                      282        24.66   \n",
       "2            2        Jun-2023                      282        22.90   \n",
       "3            3        May-2023                      280        22.80   \n",
       "4            4      April-2023                      277        23.61   \n",
       "5            5      March-2023                      274        23.53   \n",
       "6            6   February-2023                      273        23.06   \n",
       "7            7    January-2023                      272        24.79   \n",
       "8            8   December-2022                      272        25.31   \n",
       "9            9   November-2022                      269        24.83   \n",
       "10          10    October-2022                      267        25.36   \n",
       "11          11  September-2022                      263        25.02   \n",
       "12          12     August-2022                      262        24.83   \n",
       "13          13       July-2022                      258        24.32   \n",
       "14          14       June-2022                      253         22.5   \n",
       "15          15        May-2022                      247        26.47   \n",
       "16          16      April-2022                      245         25.6   \n",
       "17          17      March-2022                      241        24.79   \n",
       "18          18   February-2022                      238        23.18   \n",
       "19          19    January-2022                      225        25.74   \n",
       "\n",
       "   Value_in_Cr  \n",
       "0     7,742.34  \n",
       "1     8,201.86  \n",
       "2     7,258.64  \n",
       "3     7,189.16  \n",
       "4     7,349.81  \n",
       "5     7,480.69  \n",
       "6     7,140.91  \n",
       "7     8,145.17  \n",
       "8     8,379.11  \n",
       "9      8125.93  \n",
       "10    8,508.14  \n",
       "11    8,291.78  \n",
       "12    7,843.39  \n",
       "13    7,806.30  \n",
       "14    7,515.50  \n",
       "15    9,545.76  \n",
       "16    8,342.24  \n",
       "17    8,038.24  \n",
       "18    7,881.56  \n",
       "19    8,500.79  "
      ]
     },
     "execution_count": 3,
     "metadata": {},
     "output_type": "execute_result"
    }
   ],
   "source": [
    "df=pd.read_csv('./BHIM_PRODUCT_ANAYSIS_TILL_DATE.csv')\n",
    "df[0:20]"
   ]
  },
  {
   "cell_type": "code",
   "execution_count": 12,
   "metadata": {},
   "outputs": [
    {
     "data": {
      "text/plain": [
       "{'Product': 'NFS',\n",
       " 'Volume': '8.90',\n",
       " 'Value': '4106.42',\n",
       " 'Day': '1',\n",
       " 'Month': 'May',\n",
       " 'Year': '2021'}"
      ]
     },
     "execution_count": 12,
     "metadata": {},
     "output_type": "execute_result"
    }
   ],
   "source": [
    "from bs4 import BeautifulSoup\n",
    "import requests\n",
    "\n",
    "data=requests.get('https://www.npci.org.in/files/npci/DailyProductStatistics.json')\n",
    "dataJson=data.json()"
   ]
  },
  {
   "cell_type": "code",
   "execution_count": 42,
   "metadata": {},
   "outputs": [],
   "source": [
    "value=[]\n",
    "date=[]\n",
    "for i in range(len(dataJson[\"data\"])):\n",
    "    # print(dataJson[\"data\"][i])\n",
    "    if(dataJson[\"data\"][i][\"Value\"])!='0':\n",
    "        value.append(dataJson[\"data\"][i][\"Value\"])\n",
    "        date.append(dataJson[\"data\"][i][\"Day\"]+ \" \"+ dataJson[\"data\"][i][\"Month\"]+ \" \"+ dataJson[\"data\"][i][\"Year\"])"
   ]
  },
  {
   "cell_type": "code",
   "execution_count": 78,
   "metadata": {},
   "outputs": [
    {
     "ename": "ValueError",
     "evalue": "could not convert string to float: '26,149.22'",
     "output_type": "error",
     "traceback": [
      "\u001b[1;31m---------------------------------------------------------------------------\u001b[0m",
      "\u001b[1;31mValueError\u001b[0m                                Traceback (most recent call last)",
      "\u001b[1;32mc:\\Users\\modip\\Desktop\\pythonProject\\dataNalysis.ipynb Cell 6\u001b[0m line \u001b[0;36m<cell line: 5>\u001b[1;34m()\u001b[0m\n\u001b[0;32m      <a href='vscode-notebook-cell:/c%3A/Users/modip/Desktop/pythonProject/dataNalysis.ipynb#X10sZmlsZQ%3D%3D?line=4'>5</a>\u001b[0m \u001b[39mwhile\u001b[39;00m i\u001b[39m<\u001b[39m\u001b[39mlen\u001b[39m(dataJson[\u001b[39m\"\u001b[39m\u001b[39mdata\u001b[39m\u001b[39m\"\u001b[39m]):\n\u001b[0;32m      <a href='vscode-notebook-cell:/c%3A/Users/modip/Desktop/pythonProject/dataNalysis.ipynb#X10sZmlsZQ%3D%3D?line=5'>6</a>\u001b[0m     \u001b[39mif\u001b[39;00m(dataJson[\u001b[39m\"\u001b[39m\u001b[39mdata\u001b[39m\u001b[39m\"\u001b[39m][i][\u001b[39m\"\u001b[39m\u001b[39mValue\u001b[39m\u001b[39m\"\u001b[39m])\u001b[39m!=\u001b[39m\u001b[39m'\u001b[39m\u001b[39m0\u001b[39m\u001b[39m'\u001b[39m \u001b[39mand\u001b[39;00m dataJson[\u001b[39m\"\u001b[39m\u001b[39mdata\u001b[39m\u001b[39m\"\u001b[39m][i][\u001b[39m\"\u001b[39m\u001b[39mProduct\u001b[39m\u001b[39m\"\u001b[39m]\u001b[39m==\u001b[39m\u001b[39m\"\u001b[39m\u001b[39mUPI\u001b[39m\u001b[39m\"\u001b[39m:\n\u001b[1;32m----> <a href='vscode-notebook-cell:/c%3A/Users/modip/Desktop/pythonProject/dataNalysis.ipynb#X10sZmlsZQ%3D%3D?line=6'>7</a>\u001b[0m         value\u001b[39m.\u001b[39mappend(\u001b[39mfloat\u001b[39;49m(dataJson[\u001b[39m\"\u001b[39;49m\u001b[39mdata\u001b[39;49m\u001b[39m\"\u001b[39;49m][i][\u001b[39m\"\u001b[39;49m\u001b[39mValue\u001b[39;49m\u001b[39m\"\u001b[39;49m]))\n\u001b[0;32m      <a href='vscode-notebook-cell:/c%3A/Users/modip/Desktop/pythonProject/dataNalysis.ipynb#X10sZmlsZQ%3D%3D?line=7'>8</a>\u001b[0m         vol\u001b[39m.\u001b[39mappend(\u001b[39mfloat\u001b[39m(dataJson[\u001b[39m\"\u001b[39m\u001b[39mdata\u001b[39m\u001b[39m\"\u001b[39m][i][\u001b[39m\"\u001b[39m\u001b[39mVolume\u001b[39m\u001b[39m\"\u001b[39m]))\n\u001b[0;32m      <a href='vscode-notebook-cell:/c%3A/Users/modip/Desktop/pythonProject/dataNalysis.ipynb#X10sZmlsZQ%3D%3D?line=8'>9</a>\u001b[0m         date\u001b[39m.\u001b[39mappend(dataJson[\u001b[39m\"\u001b[39m\u001b[39mdata\u001b[39m\u001b[39m\"\u001b[39m][i][\u001b[39m\"\u001b[39m\u001b[39mMonth\u001b[39m\u001b[39m\"\u001b[39m][\u001b[39m0\u001b[39m:\u001b[39m3\u001b[39m]\u001b[39m+\u001b[39m \u001b[39m\"\u001b[39m\u001b[39m \u001b[39m\u001b[39m\"\u001b[39m\u001b[39m+\u001b[39m dataJson[\u001b[39m\"\u001b[39m\u001b[39mdata\u001b[39m\u001b[39m\"\u001b[39m][i][\u001b[39m\"\u001b[39m\u001b[39mYear\u001b[39m\u001b[39m\"\u001b[39m][\u001b[39m2\u001b[39m:\u001b[39m4\u001b[39m])\n",
      "\u001b[1;31mValueError\u001b[0m: could not convert string to float: '26,149.22'"
     ]
    }
   ],
   "source": [
    "value=[]\n",
    "date=[]\n",
    "vol=[]\n",
    "i=0\n",
    "while i<len(dataJson[\"data\"]):\n",
    "    if(dataJson[\"data\"][i][\"Value\"])!='0' and dataJson[\"data\"][i][\"Product\"]==\"UPI\":\n",
    "        value.append(float(dataJson[\"data\"][i][\"Value\"]))\n",
    "        vol.append(float(dataJson[\"data\"][i][\"Volume\"]))\n",
    "        date.append(dataJson[\"data\"][i][\"Month\"][0:3]+ \" \"+ dataJson[\"data\"][i][\"Year\"][2:4])\n",
    "    i+=90"
   ]
  },
  {
   "cell_type": "code",
   "execution_count": 75,
   "metadata": {},
   "outputs": [
    {
     "ename": "TypeError",
     "evalue": "no numeric data to plot",
     "output_type": "error",
     "traceback": [
      "\u001b[1;31m---------------------------------------------------------------------------\u001b[0m",
      "\u001b[1;31mTypeError\u001b[0m                                 Traceback (most recent call last)",
      "\u001b[1;32mc:\\Users\\modip\\Desktop\\pythonProject\\dataNalysis.ipynb Cell 8\u001b[0m line \u001b[0;36m<cell line: 12>\u001b[1;34m()\u001b[0m\n\u001b[0;32m      <a href='vscode-notebook-cell:/c%3A/Users/modip/Desktop/pythonProject/dataNalysis.ipynb#W6sZmlsZQ%3D%3D?line=8'>9</a>\u001b[0m fig, ax \u001b[39m=\u001b[39m plt\u001b[39m.\u001b[39msubplots()\n\u001b[0;32m     <a href='vscode-notebook-cell:/c%3A/Users/modip/Desktop/pythonProject/dataNalysis.ipynb#W6sZmlsZQ%3D%3D?line=10'>11</a>\u001b[0m \u001b[39m# Plot a bar chart\u001b[39;00m\n\u001b[1;32m---> <a href='vscode-notebook-cell:/c%3A/Users/modip/Desktop/pythonProject/dataNalysis.ipynb#W6sZmlsZQ%3D%3D?line=11'>12</a>\u001b[0m df\u001b[39m.\u001b[39;49mplot(kind\u001b[39m=\u001b[39;49m\u001b[39m'\u001b[39;49m\u001b[39mbar\u001b[39;49m\u001b[39m'\u001b[39;49m, x\u001b[39m=\u001b[39;49m\u001b[39m'\u001b[39;49m\u001b[39mDate\u001b[39;49m\u001b[39m'\u001b[39;49m, y\u001b[39m=\u001b[39;49m\u001b[39m'\u001b[39;49m\u001b[39mValue\u001b[39;49m\u001b[39m'\u001b[39;49m, ax\u001b[39m=\u001b[39;49max, color\u001b[39m=\u001b[39;49m\u001b[39m'\u001b[39;49m\u001b[39mb\u001b[39;49m\u001b[39m'\u001b[39;49m, alpha\u001b[39m=\u001b[39;49m\u001b[39m0.5\u001b[39;49m, label\u001b[39m=\u001b[39;49m\u001b[39m'\u001b[39;49m\u001b[39mBar\u001b[39;49m\u001b[39m'\u001b[39;49m)\n\u001b[0;32m     <a href='vscode-notebook-cell:/c%3A/Users/modip/Desktop/pythonProject/dataNalysis.ipynb#W6sZmlsZQ%3D%3D?line=13'>14</a>\u001b[0m \u001b[39m# Plot a line chart\u001b[39;00m\n\u001b[0;32m     <a href='vscode-notebook-cell:/c%3A/Users/modip/Desktop/pythonProject/dataNalysis.ipynb#W6sZmlsZQ%3D%3D?line=14'>15</a>\u001b[0m df\u001b[39m.\u001b[39mplot(kind\u001b[39m=\u001b[39m\u001b[39m'\u001b[39m\u001b[39mline\u001b[39m\u001b[39m'\u001b[39m, x\u001b[39m=\u001b[39m\u001b[39m'\u001b[39m\u001b[39mDate\u001b[39m\u001b[39m'\u001b[39m, y\u001b[39m=\u001b[39m\u001b[39m'\u001b[39m\u001b[39mVolume\u001b[39m\u001b[39m'\u001b[39m, ax\u001b[39m=\u001b[39max, color\u001b[39m=\u001b[39m\u001b[39m'\u001b[39m\u001b[39mr\u001b[39m\u001b[39m'\u001b[39m, marker\u001b[39m=\u001b[39m\u001b[39m'\u001b[39m\u001b[39mo\u001b[39m\u001b[39m'\u001b[39m, label\u001b[39m=\u001b[39m\u001b[39m'\u001b[39m\u001b[39mLine\u001b[39m\u001b[39m'\u001b[39m)\n",
      "File \u001b[1;32m~\\AppData\\Local\\Packages\\PythonSoftwareFoundation.Python.3.10_qbz5n2kfra8p0\\LocalCache\\local-packages\\Python310\\site-packages\\pandas\\plotting\\_core.py:972\u001b[0m, in \u001b[0;36mPlotAccessor.__call__\u001b[1;34m(self, *args, **kwargs)\u001b[0m\n\u001b[0;32m    969\u001b[0m             label_name \u001b[39m=\u001b[39m label_kw \u001b[39mor\u001b[39;00m data\u001b[39m.\u001b[39mcolumns\n\u001b[0;32m    970\u001b[0m             data\u001b[39m.\u001b[39mcolumns \u001b[39m=\u001b[39m label_name\n\u001b[1;32m--> 972\u001b[0m \u001b[39mreturn\u001b[39;00m plot_backend\u001b[39m.\u001b[39mplot(data, kind\u001b[39m=\u001b[39mkind, \u001b[39m*\u001b[39m\u001b[39m*\u001b[39mkwargs)\n",
      "File \u001b[1;32m~\\AppData\\Local\\Packages\\PythonSoftwareFoundation.Python.3.10_qbz5n2kfra8p0\\LocalCache\\local-packages\\Python310\\site-packages\\pandas\\plotting\\_matplotlib\\__init__.py:71\u001b[0m, in \u001b[0;36mplot\u001b[1;34m(data, kind, **kwargs)\u001b[0m\n\u001b[0;32m     69\u001b[0m         kwargs[\u001b[39m\"\u001b[39m\u001b[39max\u001b[39m\u001b[39m\"\u001b[39m] \u001b[39m=\u001b[39m \u001b[39mgetattr\u001b[39m(ax, \u001b[39m\"\u001b[39m\u001b[39mleft_ax\u001b[39m\u001b[39m\"\u001b[39m, ax)\n\u001b[0;32m     70\u001b[0m plot_obj \u001b[39m=\u001b[39m PLOT_CLASSES[kind](data, \u001b[39m*\u001b[39m\u001b[39m*\u001b[39mkwargs)\n\u001b[1;32m---> 71\u001b[0m plot_obj\u001b[39m.\u001b[39;49mgenerate()\n\u001b[0;32m     72\u001b[0m plot_obj\u001b[39m.\u001b[39mdraw()\n\u001b[0;32m     73\u001b[0m \u001b[39mreturn\u001b[39;00m plot_obj\u001b[39m.\u001b[39mresult\n",
      "File \u001b[1;32m~\\AppData\\Local\\Packages\\PythonSoftwareFoundation.Python.3.10_qbz5n2kfra8p0\\LocalCache\\local-packages\\Python310\\site-packages\\pandas\\plotting\\_matplotlib\\core.py:327\u001b[0m, in \u001b[0;36mMPLPlot.generate\u001b[1;34m(self)\u001b[0m\n\u001b[0;32m    325\u001b[0m \u001b[39mdef\u001b[39;00m \u001b[39mgenerate\u001b[39m(\u001b[39mself\u001b[39m):\n\u001b[0;32m    326\u001b[0m     \u001b[39mself\u001b[39m\u001b[39m.\u001b[39m_args_adjust()\n\u001b[1;32m--> 327\u001b[0m     \u001b[39mself\u001b[39;49m\u001b[39m.\u001b[39;49m_compute_plot_data()\n\u001b[0;32m    328\u001b[0m     \u001b[39mself\u001b[39m\u001b[39m.\u001b[39m_setup_subplots()\n\u001b[0;32m    329\u001b[0m     \u001b[39mself\u001b[39m\u001b[39m.\u001b[39m_make_plot()\n",
      "File \u001b[1;32m~\\AppData\\Local\\Packages\\PythonSoftwareFoundation.Python.3.10_qbz5n2kfra8p0\\LocalCache\\local-packages\\Python310\\site-packages\\pandas\\plotting\\_matplotlib\\core.py:506\u001b[0m, in \u001b[0;36mMPLPlot._compute_plot_data\u001b[1;34m(self)\u001b[0m\n\u001b[0;32m    504\u001b[0m \u001b[39m# no non-numeric frames or series allowed\u001b[39;00m\n\u001b[0;32m    505\u001b[0m \u001b[39mif\u001b[39;00m is_empty:\n\u001b[1;32m--> 506\u001b[0m     \u001b[39mraise\u001b[39;00m \u001b[39mTypeError\u001b[39;00m(\u001b[39m\"\u001b[39m\u001b[39mno numeric data to plot\u001b[39m\u001b[39m\"\u001b[39m)\n\u001b[0;32m    508\u001b[0m \u001b[39mself\u001b[39m\u001b[39m.\u001b[39mdata \u001b[39m=\u001b[39m numeric_data\u001b[39m.\u001b[39mapply(\u001b[39mself\u001b[39m\u001b[39m.\u001b[39m_convert_to_ndarray)\n",
      "\u001b[1;31mTypeError\u001b[0m: no numeric data to plot"
     ]
    },
    {
     "data": {
      "image/png": "[encoded data removed]",
      "text/plain": [
       "<Figure size 432x288 with 1 Axes>"
      ]
     },
     "metadata": {
      "needs_background": "light"
     },
     "output_type": "display_data"
    }
   ],
   "source": [
    "import matplotlib.pyplot as plt\n",
    "df = pd.DataFrame({\n",
    "    'Date': date,\n",
    "    'Value': value,\n",
    "    'Volume': vol\n",
    "})\n",
    "\n",
    "# Create a figure and a set of subplots\n",
    "fig, ax = plt.subplots()\n",
    "\n",
    "# Plot a bar chart\n",
    "df.plot(kind='bar', x='Date', y='Value', ax=ax, color='b', alpha=0.5, label='Bar')\n",
    "\n",
    "# Plot a line chart\n",
    "df.plot(kind='line', x='Date', y='Volume', ax=ax, color='r', marker='o', label='Line')\n",
    "\n",
    "# Add a legend\n",
    "ax.legend()\n",
    "\n",
    "# Show the plot\n",
    "plt.show()"
   ]
  },
  {
   "cell_type": "code",
   "execution_count": 9,
   "metadata": {},
   "outputs": [
    {
     "data": {
      "text/plain": [
       "'perin'"
      ]
     },
     "execution_count": 9,
     "metadata": {},
     "output_type": "execute_result"
    }
   ],
   "source": [
    "dict={\"data1\":\"perin\",\"data2\":\"Perin\"}\n",
    "dict[\"data1\"]"
   ]
  },
  {
   "cell_type": "code",
   "execution_count": 11,
   "metadata": {},
   "outputs": [
    {
     "name": "stdout",
     "output_type": "stream",
     "text": [
      "Collecting PyPDF2Note: you may need to restart the kernel to use updated packages.\n"
     ]
    },
    {
     "name": "stderr",
     "output_type": "stream",
     "text": [
      "WARNING: Ignoring invalid distribution -rotobuf (c:\\users\\modip\\appdata\\local\\packages\\pythonsoftwarefoundation.python.3.10_qbz5n2kfra8p0\\localcache\\local-packages\\python310\\site-packages)\n",
      "WARNING: Ignoring invalid distribution -rotobuf (c:\\users\\modip\\appdata\\local\\packages\\pythonsoftwarefoundation.python.3.10_qbz5n2kfra8p0\\localcache\\local-packages\\python310\\site-packages)\n",
      "WARNING: Ignoring invalid distribution -rotobuf (c:\\users\\modip\\appdata\\local\\packages\\pythonsoftwarefoundation.python.3.10_qbz5n2kfra8p0\\localcache\\local-packages\\python310\\site-packages)\n",
      "WARNING: Ignoring invalid distribution -rotobuf (c:\\users\\modip\\appdata\\local\\packages\\pythonsoftwarefoundation.python.3.10_qbz5n2kfra8p0\\localcache\\local-packages\\python310\\site-packages)\n",
      "WARNING: Ignoring invalid distribution -rotobuf (c:\\users\\modip\\appdata\\local\\packages\\pythonsoftwarefoundation.python.3.10_qbz5n2kfra8p0\\localcache\\local-packages\\python310\\site-packages)\n",
      "WARNING: Ignoring invalid distribution -rotobuf (c:\\users\\modip\\appdata\\local\\packages\\pythonsoftwarefoundation.python.3.10_qbz5n2kfra8p0\\localcache\\local-packages\\python310\\site-packages)\n",
      "WARNING: Ignoring invalid distribution -rotobuf (c:\\users\\modip\\appdata\\local\\packages\\pythonsoftwarefoundation.python.3.10_qbz5n2kfra8p0\\localcache\\local-packages\\python310\\site-packages)\n",
      "\n",
      "[notice] A new release of pip available: 22.2.2 -> 23.2.1\n",
      "[notice] To update, run: C:\\Users\\modip\\AppData\\Local\\Microsoft\\WindowsApps\\PythonSoftwareFoundation.Python.3.10_qbz5n2kfra8p0\\python.exe -m pip install --upgrade pip\n"
     ]
    },
    {
     "name": "stdout",
     "output_type": "stream",
     "text": [
      "\n",
      "  Downloading pypdf2-3.0.1-py3-none-any.whl (232 kB)\n",
      "     -------------------------------------- 232.6/232.6 kB 1.0 MB/s eta 0:00:00\n",
      "Installing collected packages: PyPDF2\n",
      "Successfully installed PyPDF2-3.0.1\n"
     ]
    }
   ],
   "source": [
    "pip install PyPDF2"
   ]
  },
  {
   "cell_type": "code",
   "execution_count": 20,
   "metadata": {},
   "outputs": [],
   "source": [
    "from PyPDF2 import PdfReader\n",
    "\n",
    "reader = PdfReader(\"./the-indian-payments-handbook-2020-2025.pdf\")\n",
    "number_of_pages = len(reader.pages)\n",
    "page = reader.pages[25]\n",
    "text = page.extract_text()"
   ]
  },
  {
   "cell_type": "code",
   "execution_count": 21,
   "metadata": {},
   "outputs": [
    {
     "data": {
      "text/plain": [
       "'26   |    PwC The Indian payments handbook –  2020–20257,8118,938\\n6,2587,1288,2359,63211,393\\n2018–19 2019–20 E 2020–21 E 2021–22 E 2022–23 E 2023–24 E 2024–25 ESource: PwC analysis of RBI data\\nSource: PwC analysis of RBI dataPrepaid payment instruments (PPIs) have been prevalent in the market since 2002. However, use cases of PPIs have \\nremained limited to gift cards, meal reimbursements, foreign exchange cards and reloadable cards for general usage \\nsuch as paying merchants. PPIs witnessed a surge in usage after app-based mobile wallets became operational. Mobile \\nwallets made payment more convenient and demonetisation led to users accepting PPIs easily. A few years since their \\nintroduction, mobile wallets are now being used for bill payments and money transfer, further enhancing the usage of PPIs.\\nForex cards are gradually becoming a preferred PPI among outbound travellers.\\nGrowth in transaction volume (in million)\\nGrowth in transaction value (in INR billion)8,3649,239\\n8,1119,68711,49513,43115,675\\n2018–19 2019–20 E 2020–21 E 2021–22 E 2022–23 E 2023–24 E 2024–25 EPrepaid payment instruments 7\\nThe value of transactions through PPIs is expected to reach approximately INR 11,000 billion by 2025, recording a growth \\nof 1.3 times over 2019.17\\nGift cards are the biggest category under PPIs, capturing about 70% of the total market and having an exceptional year-\\non-year (YoY) growth rate of approximately 86% until 2018 in terms of both transactional volumes and value. However, the \\nCOVID-19 crisis is expected to impact the gift cards market and cause a slowdown.\\n17 https://www.alliedmarketresearch.com/gift-cards-market'"
      ]
     },
     "execution_count": 21,
     "metadata": {},
     "output_type": "execute_result"
    }
   ],
   "source": [
    "text"
   ]
  },
  {
   "cell_type": "code",
   "execution_count": 22,
   "metadata": {},
   "outputs": [],
   "source": [
    "with open('demo.txt','w+') as f:\n",
    "    f.write(text)"
   ]
  },
  {
   "cell_type": "code",
   "execution_count": 2,
   "metadata": {},
   "outputs": [],
   "source": [
    "import pandas as pd\n",
    "import numpy as np\n",
    "import os"
   ]
  },
  {
   "cell_type": "code",
   "execution_count": 121,
   "metadata": {},
   "outputs": [
    {
     "data": {
      "text/plain": [
       "['2018Q1.xlsx',\n",
       " '2018Q2.xlsx',\n",
       " '2018Q3.xlsx',\n",
       " '2018Q4.xlsx',\n",
       " '2019Q1.xlsx',\n",
       " '2019Q2.xlsx',\n",
       " '2019Q3.xlsx',\n",
       " '2019Q4.xlsx',\n",
       " '2020Q1.xlsx',\n",
       " '2020Q2.xlsx',\n",
       " '2020Q3.xlsx',\n",
       " '2020Q4.xlsx',\n",
       " '2021Q1.xlsx',\n",
       " '2021Q2.xlsx',\n",
       " '2021Q3.xlsx',\n",
       " '2021Q4.xlsx',\n",
       " '2022Q1.xlsx',\n",
       " '2022Q3.xlsx',\n",
       " '2023Q1.xlsx',\n",
       " '2023Q2.xlsx',\n",
       " '2023Q3.xlsx']"
      ]
     },
     "execution_count": 121,
     "metadata": {},
     "output_type": "execute_result"
    }
   ],
   "source": [
    "folder_path = 'MoneySupply'\n",
    "data_frames = []\n",
    "files = os.listdir(folder_path)\n",
    "files.sort()\n",
    "files"
   ]
  },
  {
   "cell_type": "code",
   "execution_count": 122,
   "metadata": {},
   "outputs": [
    {
     "data": {
      "text/plain": [
       "['./MoneySupply\\\\2018Q1.xlsx',\n",
       " './MoneySupply\\\\2018Q2.xlsx',\n",
       " './MoneySupply\\\\2018Q3.xlsx',\n",
       " './MoneySupply\\\\2018Q4.xlsx',\n",
       " './MoneySupply\\\\2019Q1.xlsx',\n",
       " './MoneySupply\\\\2019Q2.xlsx',\n",
       " './MoneySupply\\\\2019Q3.xlsx',\n",
       " './MoneySupply\\\\2019Q4.xlsx',\n",
       " './MoneySupply\\\\2020Q1.xlsx',\n",
       " './MoneySupply\\\\2020Q2.xlsx',\n",
       " './MoneySupply\\\\2020Q3.xlsx',\n",
       " './MoneySupply\\\\2020Q4.xlsx',\n",
       " './MoneySupply\\\\2021Q1.xlsx',\n",
       " './MoneySupply\\\\2021Q2.xlsx',\n",
       " './MoneySupply\\\\2021Q3.xlsx',\n",
       " './MoneySupply\\\\2021Q4.xlsx',\n",
       " './MoneySupply\\\\2022Q1.xlsx',\n",
       " './MoneySupply\\\\2022Q3.xlsx',\n",
       " './MoneySupply\\\\2023Q1.xlsx',\n",
       " './MoneySupply\\\\2023Q2.xlsx',\n",
       " './MoneySupply\\\\2023Q3.xlsx']"
      ]
     },
     "execution_count": 122,
     "metadata": {},
     "output_type": "execute_result"
    }
   ],
   "source": [
    "import glob\n",
    "csv_files = glob.glob('./MoneySupply//*.xlsx')\n",
    "csv_files  "
   ]
  },
  {
   "cell_type": "code",
   "execution_count": 123,
   "metadata": {},
   "outputs": [
    {
     "name": "stdout",
     "output_type": "stream",
     "text": [
      "2018Q1.xlsx\n",
      "2018Q2.xlsx\n",
      "2018Q3.xlsx\n",
      "2018Q4.xlsx\n",
      "2019Q1.xlsx\n",
      "2019Q2.xlsx\n",
      "2019Q3.xlsx\n",
      "2019Q4.xlsx\n",
      "2020Q1.xlsx\n",
      "2020Q2.xlsx\n",
      "2020Q3.xlsx\n",
      "2020Q4.xlsx\n",
      "2021Q1.xlsx\n",
      "2021Q2.xlsx\n",
      "2021Q3.xlsx\n",
      "2021Q4.xlsx\n",
      "2022Q1.xlsx\n",
      "2022Q3.xlsx\n",
      "2023Q1.xlsx\n",
      "2023Q2.xlsx\n",
      "2023Q3.xlsx\n"
     ]
    }
   ],
   "source": [
    "for file in files:\n",
    "    print(file)\n",
    "    if file.endswith('.xlsx'):\n",
    "        file_path = os.path.join(folder_path, file)\n",
    "        df = pd.read_excel(file_path)\n",
    "        data_frames.append(df)"
   ]
  },
  {
   "cell_type": "code",
   "execution_count": 124,
   "metadata": {},
   "outputs": [
    {
     "data": {
      "text/plain": [
       "145985.59207961828"
      ]
     },
     "execution_count": 124,
     "metadata": {},
     "output_type": "execute_result"
    }
   ],
   "source": [
    "data_frames[3].iloc[7,3]"
   ]
  },
  {
   "cell_type": "markdown",
   "metadata": {},
   "source": [
    "Taking insights from the money circulated and in the hands of people called liquidity with digital transaction "
   ]
  },
  {
   "cell_type": "code",
   "execution_count": 125,
   "metadata": {},
   "outputs": [],
   "source": [
    "count=0\n",
    "CurrencyWithPeople=[]\n",
    "for i in range(len(data_frames)):\n",
    "    CurrencyWithPeople.append(data_frames[i].iloc[7,3])"
   ]
  },
  {
   "cell_type": "code",
   "execution_count": 126,
   "metadata": {},
   "outputs": [
    {
     "data": {
      "text/plain": [
       "[134132.96956752226,\n",
       " 139620.9553590123,\n",
       " 141551.82579668125,\n",
       " 145985.59207961828,\n",
       " 147591.94558561227,\n",
       " 154301.0530786643,\n",
       " 155993.6222189013,\n",
       " 15946150.138300227,\n",
       " 16217588.973644167,\n",
       " 16991625.529644925,\n",
       " 17561310.535414126,\n",
       " 18059064.376103923,\n",
       " 18239236.11626833,\n",
       " 18907383.031503122,\n",
       " 19403692.337541323,\n",
       " 19741867.485764228,\n",
       " 18844577.753431726,\n",
       " 21036713.921275526,\n",
       " 21842675.501050625,\n",
       " 22779806.563118726,\n",
       " 23330256.217885826]"
      ]
     },
     "execution_count": 126,
     "metadata": {},
     "output_type": "execute_result"
    }
   ],
   "source": [
    "CurrencyWithPeople"
   ]
  },
  {
   "cell_type": "code",
   "execution_count": 127,
   "metadata": {},
   "outputs": [
    {
     "data": {
      "text/plain": [
       "['Jan 2018',\n",
       " 'Apr 2018',\n",
       " 'Aug 2018',\n",
       " 'Dec 2018',\n",
       " 'Jan 2019',\n",
       " 'Apr 2019',\n",
       " 'Aug 2019',\n",
       " 'Dec 2019',\n",
       " 'Jan 2020',\n",
       " 'Apr 2020',\n",
       " 'Aug 2020',\n",
       " 'Dec 2020',\n",
       " 'Jan 2021',\n",
       " 'Apr 2021',\n",
       " 'Aug 2021',\n",
       " 'Dec 2021',\n",
       " 'Jan 2022',\n",
       " 'Apr 2022',\n",
       " 'Aug 2022',\n",
       " 'Dec 2022',\n",
       " 'Jan 2023']"
      ]
     },
     "execution_count": 127,
     "metadata": {},
     "output_type": "execute_result"
    }
   ],
   "source": [
    "month=['Jan','Apr','Aug','Dec']\n",
    "year=['2018','2019','2020','2021','2022','2023']\n",
    "combined_series = [m +\" \"+ y for y in year for m in month]\n",
    "combined_series=combined_series[0:-3]\n",
    "combined_series"
   ]
  },
  {
   "cell_type": "code",
   "execution_count": 95,
   "metadata": {},
   "outputs": [],
   "source": [
    "month=['Jan 2023','Jan 2022','Apr 2022','Aug 2022','Dec 2022','Jan 2021','Apr 2021','Aug 2021','Dec 2021','Jan 2020','Apr 2020','Aug 2020','Dec 2020','Jan 2019','Apr 2019','Aug 2019','Dec 2019','Jan 2018','Apr 2018','Aug 2018','Dec 2018']"
   ]
  },
  {
   "cell_type": "code",
   "execution_count": 145,
   "metadata": {},
   "outputs": [
    {
     "name": "stdout",
     "output_type": "stream",
     "text": [
      "CurrencyWithPeople    155993.622219\n",
      "Name: Aug 2019, dtype: float64\n"
     ]
    },
    {
     "data": {
      "text/plain": [
       "CurrencyWithPeople    2.333026e+07\n",
       "Name: Jan 2023, dtype: float64"
      ]
     },
     "execution_count": 145,
     "metadata": {},
     "output_type": "execute_result"
    }
   ],
   "source": [
    "df=pd.DataFrame(CurrencyWithPeople,index=combined_series)\n",
    "df.columns=['CurrencyWithPeople']\n",
    "df.index\n",
    "print(df.iloc[6])\n",
    "df.iloc[20]\n"
   ]
  },
  {
   "cell_type": "code",
   "execution_count": 131,
   "metadata": {},
   "outputs": [
    {
     "data": {
      "image/png": "[encoded data removed]",
      "text/plain": [
       "<Figure size 1440x720 with 1 Axes>"
      ]
     },
     "metadata": {
      "needs_background": "light"
     },
     "output_type": "display_data"
    }
   ],
   "source": [
    "import matplotlib.pyplot as plt\n",
    "plt.figure(figsize=(20,10))\n",
    "plt.plot(combined_series,df['CurrencyWithPeople'])\n",
    "plt.xticks(rotation=90)\n",
    "plt.show()"
   ]
  },
  {
   "cell_type": "markdown",
   "metadata": {},
   "source": [
    "Here we have seen that the as the Year passes the number of cash or liquidity have increases due to the strong value of ruppee "
   ]
  },
  {
   "cell_type": "code",
   "execution_count": 15,
   "metadata": {},
   "outputs": [
    {
     "data": {
      "text/plain": [
       "['2018.xlsx', '2019.xlsx', '2020.xlsx', '2021.xlsx', '2022.xlsx', '2023.xlsx']"
      ]
     },
     "execution_count": 15,
     "metadata": {},
     "output_type": "execute_result"
    }
   ],
   "source": [
    "folder_path = 'GSTCollection'\n",
    "data_frames = []\n",
    "files = os.listdir(folder_path)\n",
    "files.sort()\n",
    "files"
   ]
  },
  {
   "cell_type": "markdown",
   "metadata": {},
   "source": [
    "Taking out the insights from GST collection "
   ]
  },
  {
   "cell_type": "code",
   "execution_count": 16,
   "metadata": {},
   "outputs": [
    {
     "data": {
      "text/plain": [
       "['./GSTCollection\\\\2018.xlsx',\n",
       " './GSTCollection\\\\2019.xlsx',\n",
       " './GSTCollection\\\\2020.xlsx',\n",
       " './GSTCollection\\\\2021.xlsx',\n",
       " './GSTCollection\\\\2022.xlsx',\n",
       " './GSTCollection\\\\2023.xlsx']"
      ]
     },
     "execution_count": 16,
     "metadata": {},
     "output_type": "execute_result"
    }
   ],
   "source": [
    "import glob\n",
    "csv_files = glob.glob('./GSTCollection//*.xlsx')\n",
    "csv_files "
   ]
  },
  {
   "cell_type": "code",
   "execution_count": 17,
   "metadata": {},
   "outputs": [
    {
     "name": "stdout",
     "output_type": "stream",
     "text": [
      "2018.xlsx\n",
      "2019.xlsx\n",
      "2020.xlsx\n",
      "2021.xlsx\n",
      "2022.xlsx\n",
      "2023.xlsx\n"
     ]
    }
   ],
   "source": [
    "for file in files:\n",
    "    print(file)\n",
    "    if file.endswith('.xlsx'):\n",
    "        file_path = os.path.join(folder_path, file)\n",
    "        df = pd.read_excel(file_path)\n",
    "        data_frames.append(df)"
   ]
  },
  {
   "cell_type": "code",
   "execution_count": 26,
   "metadata": {},
   "outputs": [],
   "source": [
    "gst=[]\n",
    "for i in range(len(data_frames)):\n",
    "    gst.append(data_frames[i].iloc[41,0])"
   ]
  },
  {
   "cell_type": "code",
   "execution_count": 29,
   "metadata": {},
   "outputs": [
    {
     "data": {
      "image/png": "[encoded data removed]",
      "text/plain": [
       "<Figure size 1440x720 with 1 Axes>"
      ]
     },
     "metadata": {
      "needs_background": "light"
     },
     "output_type": "display_data"
    }
   ],
   "source": [
    "import matplotlib.pyplot as plt\n",
    "year=['2018','2019','2020','2021','2022','2023']\n",
    "plt.figure(figsize=(20,10))\n",
    "plt.plot(year,gst)\n",
    "plt.xticks(rotation=90)\n",
    "plt.show()"
   ]
  },
  {
   "cell_type": "markdown",
   "metadata": {},
   "source": [
    "By seeing the graph it is clearly seen that with the increase in digital transaction GST collection also increases due to white money more flodding into the indian market"
   ]
  }
 ],
 "metadata": {
  "kernelspec": {
   "display_name": "Python 3",
   "language": "python",
   "name": "python3"
  },
  "language_info": {
   "codemirror_mode": {
    "name": "ipython",
    "version": 3
   },
   "file_extension": ".py",
   "mimetype": "text/x-python",
   "name": "python",
   "nbconvert_exporter": "python",
   "pygments_lexer": "ipython3",
   "version": "3.10.11"
  },
  "orig_nbformat": 4
 },
 "nbformat": 4,
 "nbformat_minor": 2
}
