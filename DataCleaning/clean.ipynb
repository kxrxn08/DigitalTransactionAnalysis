{
 "cells": [
  {
   "cell_type": "code",
   "execution_count": 26,
   "metadata": {},
   "outputs": [
    {
     "data": {
      "text/plain": [
       "<openpyxl.workbook.workbook.Workbook at 0x1d5abc22910>"
      ]
     },
     "execution_count": 26,
     "metadata": {},
     "output_type": "execute_result"
    }
   ],
   "source": [
    "import openpyxl as py\n",
    "work_book=py.load_workbook(\"MainData.xlsx\")\n",
    "work_book"
   ]
  },
  {
   "cell_type": "code",
   "execution_count": 27,
   "metadata": {},
   "outputs": [
    {
     "data": {
      "text/plain": [
       "['June 2020',\n",
       " 'August 2020',\n",
       " 'September 2020',\n",
       " 'October 2020',\n",
       " 'November 2020',\n",
       " 'April 2021',\n",
       " 'June 2021',\n",
       " 'July 2021',\n",
       " 'August 2021',\n",
       " 'September 2021',\n",
       " 'October 2021',\n",
       " 'November 2021',\n",
       " 'December 2021',\n",
       " 'January 2022 ',\n",
       " 'February 2022',\n",
       " 'March 2022',\n",
       " 'April 2022',\n",
       " 'May 2022',\n",
       " 'June 2022',\n",
       " 'July 2022',\n",
       " 'August 2022',\n",
       " 'September 2022',\n",
       " 'October 2022',\n",
       " 'November 2022',\n",
       " 'December 2022',\n",
       " 'January 2023',\n",
       " 'February 2023',\n",
       " 'March 2023',\n",
       " 'April 2023',\n",
       " 'May 2023',\n",
       " 'June 2023',\n",
       " 'July 2023']"
      ]
     },
     "execution_count": 27,
     "metadata": {},
     "output_type": "execute_result"
    }
   ],
   "source": [
    "sheetnames=work_book.sheetnames\n",
    "sheetnames"
   ]
  },
  {
   "cell_type": "code",
   "execution_count": 28,
   "metadata": {},
   "outputs": [
    {
     "data": {
      "text/plain": [
       "['June 2020',\n",
       " 'September 2020',\n",
       " 'November 2020',\n",
       " 'April 2021',\n",
       " 'June 2021',\n",
       " 'August 2021',\n",
       " 'September 2021',\n",
       " 'November 2021',\n",
       " 'December 2021',\n",
       " 'February 2022',\n",
       " 'March 2022',\n",
       " 'May 2022',\n",
       " 'June 2022',\n",
       " 'August 2022',\n",
       " 'September 2022',\n",
       " 'November 2022',\n",
       " 'December 2022',\n",
       " 'February 2023',\n",
       " 'March 2023',\n",
       " 'May 2023',\n",
       " 'June 2023']"
      ]
     },
     "execution_count": 28,
     "metadata": {},
     "output_type": "execute_result"
    }
   ],
   "source": [
    "selected_sheet=['June 2020','September 2020','November 2020','April 2021',\n",
    "                'June 2021','September 2021','December 2021','March 2022','June 2022','September 2022','December 2022','March 2023','June 2023']\n",
    "for i in sheetnames:\n",
    "    if i not in selected_sheet:\n",
    "        sheetnames.remove(i)\n",
    "sheetnames"
   ]
  },
  {
   "cell_type": "code",
   "execution_count": 29,
   "metadata": {},
   "outputs": [],
   "source": [
    "sheet1=work_book[sheetnames[0]]\n",
    "l=['Date for the Day','Payment_RBI_RTGS_VOL','Payment_RBI_RTGS_VAL','Payment_RBI_NTFS_VOL','Payment_RBI_NTFS_VAL',\n",
    "'Payment_NPCI_AePS_VOL','Payment_NPCI_AePS_VAL','Payment_NPCI_ UPI_VOL','Payment_NPCI_UPI_VAL','Payment_NPCI_IMPS_VOL','Payment_NPCI_IMPS_VAL',\n",
    "'Payment_NPCI_NACH_Cr_VOL','Payment_NPCI_NACH_Cr_VAL','Payment_NPCI_NACH_Deb_VOL','Payment_NPCI_NACH_Deb_VAL','Payment_NPCI_NETC_VOL','Payment_NPCI_NETC_VAL',\n",
    "'Payment_NPCI_BBPS_VOL','Payment_NPCI_BBPS_VAL','Payment_NPCI_CTS_VOL','Payment_NPCI_NPCI_Cr_VAL','Payment_CASH_NFS_VOL','Payment_CASH_NFS_VAL',\n",
    "'Payment_CASH_AePS_VOL','Payment_CASH_AePS_VAL']\n",
    "for merge in list(sheet1.merged_cells):\n",
    "    sheet1.unmerge_cells(range_string=str(merge))\n",
    "# sheet1\n"
   ]
  },
  {
   "cell_type": "code",
   "execution_count": 30,
   "metadata": {},
   "outputs": [
    {
     "name": "stdout",
     "output_type": "stream",
     "text": [
      "Date\n",
      "Vol\n",
      "Val\n",
      "Vol\n",
      "Val\n",
      "Vol\n",
      "Val\n",
      "Vol\n",
      "Val\n",
      "Vol\n",
      "Val\n",
      "Vol\n",
      "Val\n",
      "Vol\n",
      "Val\n",
      "Vol\n",
      "Val\n",
      "Vol\n",
      "Val\n",
      "Vol\n",
      "Val\n",
      "Vol\n",
      "Val\n",
      "Vol\n",
      "Val\n"
     ]
    }
   ],
   "source": [
    "i=0\n",
    "sheet1.delete_rows(0,3)\n",
    "for x in range(1,26):\n",
    "    print(sheet1.cell(row=1,column=x).value)\n",
    "    sheet1.cell(row=1,column=x).value=l[i]\n",
    "    i+=1\n",
    "work_book.save(\"DEMO.xlsx\")"
   ]
  },
  {
   "cell_type": "code",
   "execution_count": null,
   "metadata": {},
   "outputs": [],
   "source": []
  }
 ],
 "metadata": {
  "kernelspec": {
   "display_name": "Python 3",
   "language": "python",
   "name": "python3"
  },
  "language_info": {
   "codemirror_mode": {
    "name": "ipython",
    "version": 3
   },
   "file_extension": ".py",
   "mimetype": "text/x-python",
   "name": "python",
   "nbconvert_exporter": "python",
   "pygments_lexer": "ipython3",
   "version": "3.11.0"
  },
  "orig_nbformat": 4
 },
 "nbformat": 4,
 "nbformat_minor": 2
}
