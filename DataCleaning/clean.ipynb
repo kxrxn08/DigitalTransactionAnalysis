{
 "cells": [
  {
   "cell_type": "code",
   "execution_count": 1,
   "metadata": {},
   "outputs": [],
   "source": [
    "import pandas as pd"
   ]
  },
  {
   "cell_type": "code",
   "execution_count": 15,
   "metadata": {},
   "outputs": [
    {
     "data": {
      "text/plain": [
       "PAYMENT TRANSACTIONS        RBI Operated\n",
       "PAYMENT TRANSACTIONS.1      RBI Operated\n",
       "PAYMENT TRANSACTIONS.2      RBI Operated\n",
       "PAYMENT TRANSACTIONS.3      RBI Operated\n",
       "PAYMENT TRANSACTIONS.4     NPCI Operated\n",
       "PAYMENT TRANSACTIONS.5     NPCI Operated\n",
       "PAYMENT TRANSACTIONS.6     NPCI Operated\n",
       "PAYMENT TRANSACTIONS.7     NPCI Operated\n",
       "PAYMENT TRANSACTIONS.8     NPCI Operated\n",
       "PAYMENT TRANSACTIONS.9     NPCI Operated\n",
       "PAYMENT TRANSACTIONS.10    NPCI Operated\n",
       "PAYMENT TRANSACTIONS.11    NPCI Operated\n",
       "PAYMENT TRANSACTIONS.12    NPCI Operated\n",
       "PAYMENT TRANSACTIONS.13    NPCI Operated\n",
       "PAYMENT TRANSACTIONS.14    NPCI Operated\n",
       "PAYMENT TRANSACTIONS.15    NPCI Operated\n",
       "PAYMENT TRANSACTIONS.16    NPCI Operated\n",
       "PAYMENT TRANSACTIONS.17    NPCI Operated\n",
       "PAYMENT TRANSACTIONS.18    NPCI Operated\n",
       "PAYMENT TRANSACTIONS.19    NPCI Operated\n",
       "CASH WITHDRAWAL            NPCI Operated\n",
       "CASH WITHDRAWAL.1          NPCI Operated\n",
       "CASH WITHDRAWAL.2          NPCI Operated\n",
       "CASH WITHDRAWAL.3          NPCI Operated\n",
       "Name: 0, dtype: object"
      ]
     },
     "execution_count": 15,
     "metadata": {},
     "output_type": "execute_result"
    }
   ],
   "source": [
    "df=pd.read_csv(\"June 2020.csv\")\n",
    "dff=df.iloc[1,1:]\n",
    "dff.fillna(0,inplace=True)\n",
    "initial=dff[0]\n",
    "for i in range(1,len(dff)):\n",
    "    if dff[i]==0:\n",
    "        dff[i]=initial\n",
    "    else:\n",
    "        initial=dff[i]   \n",
    "    dff[i]=dff[i].replace(\"(\",\"\").replace(\")\",\"\").replace(\"/\",'').strip().replace(\"  \",\"_\")\n",
    "    dff[i]=dff[i].replace(\" \",\"_\")\n",
    "dff.fillna(0,inplace=True)\n",
    "dff=df.iloc[0,1:]\n",
    "dff"
   ]
  },
  {
   "cell_type": "code",
   "execution_count": 14,
   "metadata": {},
   "outputs": [
    {
     "name": "stdout",
     "output_type": "stream",
     "text": [
      "<class 'pandas.core.series.Series'>\n",
      "Index: 24 entries, PAYMENT TRANSACTIONS to CASH WITHDRAWAL.3\n",
      "Series name: 0\n",
      "Non-Null Count  Dtype \n",
      "--------------  ----- \n",
      "24 non-null     object\n",
      "dtypes: object(1)\n",
      "memory usage: 940.0+ bytes\n"
     ]
    }
   ],
   "source": [
    "dff.info()"
   ]
  }
 ],
 "metadata": {
  "kernelspec": {
   "display_name": "Python 3",
   "language": "python",
   "name": "python3"
  },
  "language_info": {
   "codemirror_mode": {
    "name": "ipython",
    "version": 3
   },
   "file_extension": ".py",
   "mimetype": "text/x-python",
   "name": "python",
   "nbconvert_exporter": "python",
   "pygments_lexer": "ipython3",
   "version": "3.11.0"
  },
  "orig_nbformat": 4
 },
 "nbformat": 4,
 "nbformat_minor": 2
}
