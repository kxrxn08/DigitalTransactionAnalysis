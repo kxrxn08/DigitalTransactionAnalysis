{
 "cells": [
  {
   "cell_type": "code",
   "execution_count": 2,
   "metadata": {},
   "outputs": [],
   "source": [
    "import pandas as pd\n",
    "import numpy as np"
   ]
  },
  {
   "cell_type": "code",
   "execution_count": 3,
   "metadata": {},
   "outputs": [],
   "source": [
    "df=pd.read_csv('UPIData.csv')\n",
    "df=df[::-1]\n",
    "df['Amount.Of.Transaction.In.Bn']=df['Amount.Of.Transaction.In.Bn']"
   ]
  },
  {
   "cell_type": "code",
   "execution_count": 4,
   "metadata": {},
   "outputs": [],
   "source": [
    "df.drop(['Month'],axis=1,inplace=True)"
   ]
  },
  {
   "cell_type": "code",
   "execution_count": 5,
   "metadata": {},
   "outputs": [],
   "source": [
    "df.drop(['Year'],axis=1,inplace=True)"
   ]
  },
  {
   "cell_type": "code",
   "execution_count": 6,
   "metadata": {},
   "outputs": [
    {
     "data": {
      "text/html": [
       "<div>\n",
       "<style scoped>\n",
       "    .dataframe tbody tr th:only-of-type {\n",
       "        vertical-align: middle;\n",
       "    }\n",
       "\n",
       "    .dataframe tbody tr th {\n",
       "        vertical-align: top;\n",
       "    }\n",
       "\n",
       "    .dataframe thead th {\n",
       "        text-align: right;\n",
       "    }\n",
       "</style>\n",
       "<table border=\"1\" class=\"dataframe\">\n",
       "  <thead>\n",
       "    <tr style=\"text-align: right;\">\n",
       "      <th></th>\n",
       "      <th>Month-Year</th>\n",
       "      <th>No.Of.Banks.Using.Upi</th>\n",
       "      <th>Volume.Of.Transaction.in.Mn</th>\n",
       "      <th>Amount.Of.Transaction.In.Bn</th>\n",
       "    </tr>\n",
       "  </thead>\n",
       "  <tbody>\n",
       "    <tr>\n",
       "      <th>42</th>\n",
       "      <td>Aug-16</td>\n",
       "      <td>21</td>\n",
       "      <td>0.093</td>\n",
       "      <td>0.0310</td>\n",
       "    </tr>\n",
       "    <tr>\n",
       "      <th>41</th>\n",
       "      <td>Sep-16</td>\n",
       "      <td>25</td>\n",
       "      <td>0.085</td>\n",
       "      <td>0.3260</td>\n",
       "    </tr>\n",
       "    <tr>\n",
       "      <th>40</th>\n",
       "      <td>Oct-16</td>\n",
       "      <td>26</td>\n",
       "      <td>0.103</td>\n",
       "      <td>0.4860</td>\n",
       "    </tr>\n",
       "    <tr>\n",
       "      <th>39</th>\n",
       "      <td>Nov-16</td>\n",
       "      <td>30</td>\n",
       "      <td>0.285</td>\n",
       "      <td>1.0050</td>\n",
       "    </tr>\n",
       "    <tr>\n",
       "      <th>38</th>\n",
       "      <td>Dec-16</td>\n",
       "      <td>35</td>\n",
       "      <td>1.967</td>\n",
       "      <td>7.0620</td>\n",
       "    </tr>\n",
       "    <tr>\n",
       "      <th>37</th>\n",
       "      <td>Jan-17</td>\n",
       "      <td>36</td>\n",
       "      <td>4.153</td>\n",
       "      <td>16.5880</td>\n",
       "    </tr>\n",
       "    <tr>\n",
       "      <th>36</th>\n",
       "      <td>Feb-17</td>\n",
       "      <td>44</td>\n",
       "      <td>4.156</td>\n",
       "      <td>19.0210</td>\n",
       "    </tr>\n",
       "    <tr>\n",
       "      <th>35</th>\n",
       "      <td>Mar-17</td>\n",
       "      <td>44</td>\n",
       "      <td>6.161</td>\n",
       "      <td>23.9140</td>\n",
       "    </tr>\n",
       "    <tr>\n",
       "      <th>34</th>\n",
       "      <td>Apr-17</td>\n",
       "      <td>48</td>\n",
       "      <td>7.005</td>\n",
       "      <td>22.4080</td>\n",
       "    </tr>\n",
       "    <tr>\n",
       "      <th>33</th>\n",
       "      <td>May-17</td>\n",
       "      <td>49</td>\n",
       "      <td>9.168</td>\n",
       "      <td>27.6540</td>\n",
       "    </tr>\n",
       "    <tr>\n",
       "      <th>32</th>\n",
       "      <td>June-17</td>\n",
       "      <td>52</td>\n",
       "      <td>10.155</td>\n",
       "      <td>30.6710</td>\n",
       "    </tr>\n",
       "    <tr>\n",
       "      <th>31</th>\n",
       "      <td>July-17</td>\n",
       "      <td>53</td>\n",
       "      <td>11.444</td>\n",
       "      <td>33.8120</td>\n",
       "    </tr>\n",
       "    <tr>\n",
       "      <th>30</th>\n",
       "      <td>Aug-17</td>\n",
       "      <td>55</td>\n",
       "      <td>16.608</td>\n",
       "      <td>41.2720</td>\n",
       "    </tr>\n",
       "    <tr>\n",
       "      <th>29</th>\n",
       "      <td>Sep-17</td>\n",
       "      <td>57</td>\n",
       "      <td>30.778</td>\n",
       "      <td>52.9340</td>\n",
       "    </tr>\n",
       "    <tr>\n",
       "      <th>28</th>\n",
       "      <td>Oct-17</td>\n",
       "      <td>60</td>\n",
       "      <td>76.772</td>\n",
       "      <td>70.5780</td>\n",
       "    </tr>\n",
       "    <tr>\n",
       "      <th>27</th>\n",
       "      <td>Nov-17</td>\n",
       "      <td>61</td>\n",
       "      <td>104.841</td>\n",
       "      <td>96.4060</td>\n",
       "    </tr>\n",
       "    <tr>\n",
       "      <th>26</th>\n",
       "      <td>Dec-17</td>\n",
       "      <td>67</td>\n",
       "      <td>145.463</td>\n",
       "      <td>131.4430</td>\n",
       "    </tr>\n",
       "    <tr>\n",
       "      <th>25</th>\n",
       "      <td>Jan-18</td>\n",
       "      <td>71</td>\n",
       "      <td>151.833</td>\n",
       "      <td>155.7120</td>\n",
       "    </tr>\n",
       "    <tr>\n",
       "      <th>24</th>\n",
       "      <td>Feb-18</td>\n",
       "      <td>86</td>\n",
       "      <td>171.400</td>\n",
       "      <td>191.2620</td>\n",
       "    </tr>\n",
       "    <tr>\n",
       "      <th>23</th>\n",
       "      <td>Mar-18</td>\n",
       "      <td>91</td>\n",
       "      <td>178.050</td>\n",
       "      <td>241.7260</td>\n",
       "    </tr>\n",
       "    <tr>\n",
       "      <th>22</th>\n",
       "      <td>Apr-18</td>\n",
       "      <td>97</td>\n",
       "      <td>190.080</td>\n",
       "      <td>270.2185</td>\n",
       "    </tr>\n",
       "    <tr>\n",
       "      <th>21</th>\n",
       "      <td>May-18</td>\n",
       "      <td>101</td>\n",
       "      <td>189.480</td>\n",
       "      <td>332.8851</td>\n",
       "    </tr>\n",
       "    <tr>\n",
       "      <th>20</th>\n",
       "      <td>June-18</td>\n",
       "      <td>110</td>\n",
       "      <td>246.370</td>\n",
       "      <td>408.3403</td>\n",
       "    </tr>\n",
       "    <tr>\n",
       "      <th>19</th>\n",
       "      <td>July-18</td>\n",
       "      <td>114</td>\n",
       "      <td>273.750</td>\n",
       "      <td>518.4314</td>\n",
       "    </tr>\n",
       "    <tr>\n",
       "      <th>18</th>\n",
       "      <td>Aug-18</td>\n",
       "      <td>114</td>\n",
       "      <td>312.020</td>\n",
       "      <td>542.1226</td>\n",
       "    </tr>\n",
       "    <tr>\n",
       "      <th>17</th>\n",
       "      <td>Sep-18</td>\n",
       "      <td>122</td>\n",
       "      <td>405.870</td>\n",
       "      <td>598.3536</td>\n",
       "    </tr>\n",
       "    <tr>\n",
       "      <th>16</th>\n",
       "      <td>Oct-18</td>\n",
       "      <td>128</td>\n",
       "      <td>482.360</td>\n",
       "      <td>749.7827</td>\n",
       "    </tr>\n",
       "    <tr>\n",
       "      <th>15</th>\n",
       "      <td>Nov-18</td>\n",
       "      <td>128</td>\n",
       "      <td>524.940</td>\n",
       "      <td>822.3221</td>\n",
       "    </tr>\n",
       "    <tr>\n",
       "      <th>14</th>\n",
       "      <td>Dec-18</td>\n",
       "      <td>129</td>\n",
       "      <td>620.170</td>\n",
       "      <td>1025.9482</td>\n",
       "    </tr>\n",
       "    <tr>\n",
       "      <th>13</th>\n",
       "      <td>Jan-19</td>\n",
       "      <td>134</td>\n",
       "      <td>672.750</td>\n",
       "      <td>1099.3243</td>\n",
       "    </tr>\n",
       "    <tr>\n",
       "      <th>12</th>\n",
       "      <td>Feb-19</td>\n",
       "      <td>139</td>\n",
       "      <td>674.190</td>\n",
       "      <td>1067.3712</td>\n",
       "    </tr>\n",
       "    <tr>\n",
       "      <th>11</th>\n",
       "      <td>Mar-19</td>\n",
       "      <td>142</td>\n",
       "      <td>799.540</td>\n",
       "      <td>1334.6072</td>\n",
       "    </tr>\n",
       "    <tr>\n",
       "      <th>10</th>\n",
       "      <td>Apr-19</td>\n",
       "      <td>144</td>\n",
       "      <td>781.790</td>\n",
       "      <td>1420.3439</td>\n",
       "    </tr>\n",
       "    <tr>\n",
       "      <th>9</th>\n",
       "      <td>May-19</td>\n",
       "      <td>143</td>\n",
       "      <td>733.540</td>\n",
       "      <td>1524.4929</td>\n",
       "    </tr>\n",
       "    <tr>\n",
       "      <th>8</th>\n",
       "      <td>June-19</td>\n",
       "      <td>142</td>\n",
       "      <td>754.540</td>\n",
       "      <td>1465.6635</td>\n",
       "    </tr>\n",
       "    <tr>\n",
       "      <th>7</th>\n",
       "      <td>July-19</td>\n",
       "      <td>143</td>\n",
       "      <td>822.290</td>\n",
       "      <td>1463.8664</td>\n",
       "    </tr>\n",
       "    <tr>\n",
       "      <th>6</th>\n",
       "      <td>Aug-19</td>\n",
       "      <td>141</td>\n",
       "      <td>918.350</td>\n",
       "      <td>1545.0489</td>\n",
       "    </tr>\n",
       "    <tr>\n",
       "      <th>5</th>\n",
       "      <td>Sept-19</td>\n",
       "      <td>141</td>\n",
       "      <td>955.020</td>\n",
       "      <td>1614.5656</td>\n",
       "    </tr>\n",
       "    <tr>\n",
       "      <th>4</th>\n",
       "      <td>Oct-19</td>\n",
       "      <td>141</td>\n",
       "      <td>1148.360</td>\n",
       "      <td>1913.5994</td>\n",
       "    </tr>\n",
       "    <tr>\n",
       "      <th>3</th>\n",
       "      <td>Nov-19</td>\n",
       "      <td>143</td>\n",
       "      <td>1218.770</td>\n",
       "      <td>1892.2909</td>\n",
       "    </tr>\n",
       "    <tr>\n",
       "      <th>2</th>\n",
       "      <td>Dec-19</td>\n",
       "      <td>143</td>\n",
       "      <td>1308.400</td>\n",
       "      <td>2025.2076</td>\n",
       "    </tr>\n",
       "    <tr>\n",
       "      <th>1</th>\n",
       "      <td>Jan-20</td>\n",
       "      <td>144</td>\n",
       "      <td>1305.020</td>\n",
       "      <td>2162.4297</td>\n",
       "    </tr>\n",
       "    <tr>\n",
       "      <th>0</th>\n",
       "      <td>Feb-20</td>\n",
       "      <td>146</td>\n",
       "      <td>1323.280</td>\n",
       "      <td>2219.9542</td>\n",
       "    </tr>\n",
       "  </tbody>\n",
       "</table>\n",
       "</div>"
      ],
      "text/plain": [
       "   Month-Year  No.Of.Banks.Using.Upi  Volume.Of.Transaction.in.Mn  \\\n",
       "42     Aug-16                     21                        0.093   \n",
       "41     Sep-16                     25                        0.085   \n",
       "40     Oct-16                     26                        0.103   \n",
       "39     Nov-16                     30                        0.285   \n",
       "38     Dec-16                     35                        1.967   \n",
       "37     Jan-17                     36                        4.153   \n",
       "36     Feb-17                     44                        4.156   \n",
       "35     Mar-17                     44                        6.161   \n",
       "34     Apr-17                     48                        7.005   \n",
       "33     May-17                     49                        9.168   \n",
       "32    June-17                     52                       10.155   \n",
       "31    July-17                     53                       11.444   \n",
       "30     Aug-17                     55                       16.608   \n",
       "29     Sep-17                     57                       30.778   \n",
       "28     Oct-17                     60                       76.772   \n",
       "27     Nov-17                     61                      104.841   \n",
       "26     Dec-17                     67                      145.463   \n",
       "25     Jan-18                     71                      151.833   \n",
       "24     Feb-18                     86                      171.400   \n",
       "23     Mar-18                     91                      178.050   \n",
       "22     Apr-18                     97                      190.080   \n",
       "21     May-18                    101                      189.480   \n",
       "20    June-18                    110                      246.370   \n",
       "19    July-18                    114                      273.750   \n",
       "18     Aug-18                    114                      312.020   \n",
       "17     Sep-18                    122                      405.870   \n",
       "16     Oct-18                    128                      482.360   \n",
       "15     Nov-18                    128                      524.940   \n",
       "14     Dec-18                    129                      620.170   \n",
       "13     Jan-19                    134                      672.750   \n",
       "12     Feb-19                    139                      674.190   \n",
       "11     Mar-19                    142                      799.540   \n",
       "10     Apr-19                    144                      781.790   \n",
       "9      May-19                    143                      733.540   \n",
       "8     June-19                    142                      754.540   \n",
       "7     July-19                    143                      822.290   \n",
       "6      Aug-19                    141                      918.350   \n",
       "5     Sept-19                    141                      955.020   \n",
       "4      Oct-19                    141                     1148.360   \n",
       "3      Nov-19                    143                     1218.770   \n",
       "2      Dec-19                    143                     1308.400   \n",
       "1      Jan-20                    144                     1305.020   \n",
       "0      Feb-20                    146                     1323.280   \n",
       "\n",
       "    Amount.Of.Transaction.In.Bn  \n",
       "42                       0.0310  \n",
       "41                       0.3260  \n",
       "40                       0.4860  \n",
       "39                       1.0050  \n",
       "38                       7.0620  \n",
       "37                      16.5880  \n",
       "36                      19.0210  \n",
       "35                      23.9140  \n",
       "34                      22.4080  \n",
       "33                      27.6540  \n",
       "32                      30.6710  \n",
       "31                      33.8120  \n",
       "30                      41.2720  \n",
       "29                      52.9340  \n",
       "28                      70.5780  \n",
       "27                      96.4060  \n",
       "26                     131.4430  \n",
       "25                     155.7120  \n",
       "24                     191.2620  \n",
       "23                     241.7260  \n",
       "22                     270.2185  \n",
       "21                     332.8851  \n",
       "20                     408.3403  \n",
       "19                     518.4314  \n",
       "18                     542.1226  \n",
       "17                     598.3536  \n",
       "16                     749.7827  \n",
       "15                     822.3221  \n",
       "14                    1025.9482  \n",
       "13                    1099.3243  \n",
       "12                    1067.3712  \n",
       "11                    1334.6072  \n",
       "10                    1420.3439  \n",
       "9                     1524.4929  \n",
       "8                     1465.6635  \n",
       "7                     1463.8664  \n",
       "6                     1545.0489  \n",
       "5                     1614.5656  \n",
       "4                     1913.5994  \n",
       "3                     1892.2909  \n",
       "2                     2025.2076  \n",
       "1                     2162.4297  \n",
       "0                     2219.9542  "
      ]
     },
     "execution_count": 6,
     "metadata": {},
     "output_type": "execute_result"
    }
   ],
   "source": [
    "df.drop(['Amount.Of.Transaction'],axis=1,inplace=True)\n",
    "df\n"
   ]
  },
  {
   "cell_type": "code",
   "execution_count": 7,
   "metadata": {},
   "outputs": [
    {
     "data": {
      "text/plain": [
       "42     21\n",
       "41     25\n",
       "40     26\n",
       "39     30\n",
       "38     35\n",
       "37     36\n",
       "36     44\n",
       "35     44\n",
       "34     48\n",
       "33     49\n",
       "32     52\n",
       "31     53\n",
       "30     55\n",
       "29     57\n",
       "28     60\n",
       "27     61\n",
       "26     67\n",
       "25     71\n",
       "24     86\n",
       "23     91\n",
       "22     97\n",
       "21    101\n",
       "20    110\n",
       "19    114\n",
       "18    114\n",
       "17    122\n",
       "16    128\n",
       "15    128\n",
       "14    129\n",
       "13    134\n",
       "12    139\n",
       "11    142\n",
       "10    144\n",
       "9     143\n",
       "8     142\n",
       "7     143\n",
       "6     141\n",
       "5     141\n",
       "4     141\n",
       "3     143\n",
       "2     143\n",
       "1     144\n",
       "0     146\n",
       "Name: No.Of.Banks.Using.Upi, dtype: int64"
      ]
     },
     "execution_count": 7,
     "metadata": {},
     "output_type": "execute_result"
    }
   ],
   "source": [
    "x=df['Month-Year']\n",
    "y=df['No.Of.Banks.Using.Upi']\n",
    "y"
   ]
  },
  {
   "cell_type": "code",
   "execution_count": 8,
   "metadata": {},
   "outputs": [
    {
     "data": {
      "image/png": "[encoded data removed]",
      "text/plain": [
       "<Figure size 1800x1440 with 1 Axes>"
      ]
     },
     "metadata": {
      "needs_background": "light"
     },
     "output_type": "display_data"
    }
   ],
   "source": [
    "import matplotlib.pyplot as plt\n",
    "plt.figure(figsize=(25,20))\n",
    "plt.bar(x,y)\n",
    "plt.xticks(rotation='vertical')\n",
    "plt.grid()\n",
    "plt.show()"
   ]
  },
  {
   "cell_type": "code",
   "execution_count": null,
   "metadata": {},
   "outputs": [],
   "source": []
  },
  {
   "cell_type": "code",
   "execution_count": 30,
   "metadata": {},
   "outputs": [
    {
     "data": {
      "image/png": "[encoded data removed]",
      "text/plain": [
       "<Figure size 2160x720 with 1 Axes>"
      ]
     },
     "metadata": {
      "needs_background": "light"
     },
     "output_type": "display_data"
    }
   ],
   "source": [
    "import seaborn as sns\n",
    "import matplotlib.pyplot as plt\n",
    "plt.figure(figsize=(30,10))\n",
    "plt.grid()\n",
    "plt.plot(df['Month-Year'],df['Amount.Of.Transaction.In.Bn'],lw=5)\n",
    "plt.plot(df['Month-Year'],df['Volume.Of.Transaction.in.Mn'],lw=5)\n",
    "plt.xlabel(\"Month-Year\")\n",
    "plt.ylabel(\"Volume(in Mn) and Value(in Bn)\")\n",
    "plt.show()"
   ]
  },
  {
   "cell_type": "code",
   "execution_count": 10,
   "metadata": {},
   "outputs": [
    {
     "data": {
      "image/png": "[encoded data removed]",
      "text/plain": [
       "<Figure size 2160x720 with 1 Axes>"
      ]
     },
     "metadata": {
      "needs_background": "light"
     },
     "output_type": "display_data"
    }
   ],
   "source": [
    "\n",
    "plt.figure(figsize=(30,10))\n",
    "plt.grid()\n",
    "sns.lineplot(x=\"Month-Year\", y=\"No.Of.Banks.Using.Upi\", data=df,lw=5)\n",
    "plt.show()"
   ]
  },
  {
   "cell_type": "code",
   "execution_count": 11,
   "metadata": {},
   "outputs": [],
   "source": [
    "from sklearn.model_selection import train_test_split\n",
    "from sklearn.linear_model import LinearRegression\n",
    "from sklearn.metrics import r2_score,mean_squared_error\n",
    "from sklearn.preprocessing import StandardScaler\n",
    "from sklearn.preprocessing import PolynomialFeatures\n",
    "x=df[['Volume.Of.Transaction.in.Mn']]\n",
    "y=df['No.Of.Banks.Using.Upi']\n",
    "trainX, testX, trainY, testY = train_test_split(x, y, test_size=0.2,random_state=42)\n",
    "polyRegs=PolynomialFeatures(degree=2)\n",
    "poly=PolynomialFeatures(degree=3)\n",
    "X_trainPoly=poly.fit_transform(trainX)\n",
    "X_testPoly=poly.fit_transform(testX)"
   ]
  },
  {
   "cell_type": "code",
   "execution_count": null,
   "metadata": {},
   "outputs": [],
   "source": []
  },
  {
   "cell_type": "code",
   "execution_count": 12,
   "metadata": {},
   "outputs": [
    {
     "data": {
      "text/html": [
       "<div>\n",
       "<style scoped>\n",
       "    .dataframe tbody tr th:only-of-type {\n",
       "        vertical-align: middle;\n",
       "    }\n",
       "\n",
       "    .dataframe tbody tr th {\n",
       "        vertical-align: top;\n",
       "    }\n",
       "\n",
       "    .dataframe thead th {\n",
       "        text-align: right;\n",
       "    }\n",
       "</style>\n",
       "<table border=\"1\" class=\"dataframe\">\n",
       "  <thead>\n",
       "    <tr style=\"text-align: right;\">\n",
       "      <th></th>\n",
       "      <th>No.Of.Banks.Using.Upi</th>\n",
       "      <th>Volume.Of.Transaction.in.Mn</th>\n",
       "      <th>Amount.Of.Transaction.In.Bn</th>\n",
       "    </tr>\n",
       "  </thead>\n",
       "  <tbody>\n",
       "    <tr>\n",
       "      <th>No.Of.Banks.Using.Upi</th>\n",
       "      <td>1.000000</td>\n",
       "      <td>0.881116</td>\n",
       "      <td>0.886029</td>\n",
       "    </tr>\n",
       "    <tr>\n",
       "      <th>Volume.Of.Transaction.in.Mn</th>\n",
       "      <td>0.881116</td>\n",
       "      <td>1.000000</td>\n",
       "      <td>0.994077</td>\n",
       "    </tr>\n",
       "    <tr>\n",
       "      <th>Amount.Of.Transaction.In.Bn</th>\n",
       "      <td>0.886029</td>\n",
       "      <td>0.994077</td>\n",
       "      <td>1.000000</td>\n",
       "    </tr>\n",
       "  </tbody>\n",
       "</table>\n",
       "</div>"
      ],
      "text/plain": [
       "                             No.Of.Banks.Using.Upi  \\\n",
       "No.Of.Banks.Using.Upi                     1.000000   \n",
       "Volume.Of.Transaction.in.Mn               0.881116   \n",
       "Amount.Of.Transaction.In.Bn               0.886029   \n",
       "\n",
       "                             Volume.Of.Transaction.in.Mn  \\\n",
       "No.Of.Banks.Using.Upi                           0.881116   \n",
       "Volume.Of.Transaction.in.Mn                     1.000000   \n",
       "Amount.Of.Transaction.In.Bn                     0.994077   \n",
       "\n",
       "                             Amount.Of.Transaction.In.Bn  \n",
       "No.Of.Banks.Using.Upi                           0.886029  \n",
       "Volume.Of.Transaction.in.Mn                     0.994077  \n",
       "Amount.Of.Transaction.In.Bn                     1.000000  "
      ]
     },
     "execution_count": 12,
     "metadata": {},
     "output_type": "execute_result"
    }
   ],
   "source": [
    "df2=df.drop(['Month-Year'],axis=1)\n",
    "df2.corr()"
   ]
  },
  {
   "cell_type": "code",
   "execution_count": 13,
   "metadata": {},
   "outputs": [
    {
     "data": {
      "text/html": [
       "<style>#sk-container-id-1 {color: black;background-color: white;}#sk-container-id-1 pre{padding: 0;}#sk-container-id-1 div.sk-toggleable {background-color: white;}#sk-container-id-1 label.sk-toggleable__label {cursor: pointer;display: block;width: 100%;margin-bottom: 0;padding: 0.3em;box-sizing: border-box;text-align: center;}#sk-container-id-1 label.sk-toggleable__label-arrow:before {content: \"▸\";float: left;margin-right: 0.25em;color: #696969;}#sk-container-id-1 label.sk-toggleable__label-arrow:hover:before {color: black;}#sk-container-id-1 div.sk-estimator:hover label.sk-toggleable__label-arrow:before {color: black;}#sk-container-id-1 div.sk-toggleable__content {max-height: 0;max-width: 0;overflow: hidden;text-align: left;background-color: #f0f8ff;}#sk-container-id-1 div.sk-toggleable__content pre {margin: 0.2em;color: black;border-radius: 0.25em;background-color: #f0f8ff;}#sk-container-id-1 input.sk-toggleable__control:checked~div.sk-toggleable__content {max-height: 200px;max-width: 100%;overflow: auto;}#sk-container-id-1 input.sk-toggleable__control:checked~label.sk-toggleable__label-arrow:before {content: \"▾\";}#sk-container-id-1 div.sk-estimator input.sk-toggleable__control:checked~label.sk-toggleable__label {background-color: #d4ebff;}#sk-container-id-1 div.sk-label input.sk-toggleable__control:checked~label.sk-toggleable__label {background-color: #d4ebff;}#sk-container-id-1 input.sk-hidden--visually {border: 0;clip: rect(1px 1px 1px 1px);clip: rect(1px, 1px, 1px, 1px);height: 1px;margin: -1px;overflow: hidden;padding: 0;position: absolute;width: 1px;}#sk-container-id-1 div.sk-estimator {font-family: monospace;background-color: #f0f8ff;border: 1px dotted black;border-radius: 0.25em;box-sizing: border-box;margin-bottom: 0.5em;}#sk-container-id-1 div.sk-estimator:hover {background-color: #d4ebff;}#sk-container-id-1 div.sk-parallel-item::after {content: \"\";width: 100%;border-bottom: 1px solid gray;flex-grow: 1;}#sk-container-id-1 div.sk-label:hover label.sk-toggleable__label {background-color: #d4ebff;}#sk-container-id-1 div.sk-serial::before {content: \"\";position: absolute;border-left: 1px solid gray;box-sizing: border-box;top: 0;bottom: 0;left: 50%;z-index: 0;}#sk-container-id-1 div.sk-serial {display: flex;flex-direction: column;align-items: center;background-color: white;padding-right: 0.2em;padding-left: 0.2em;position: relative;}#sk-container-id-1 div.sk-item {position: relative;z-index: 1;}#sk-container-id-1 div.sk-parallel {display: flex;align-items: stretch;justify-content: center;background-color: white;position: relative;}#sk-container-id-1 div.sk-item::before, #sk-container-id-1 div.sk-parallel-item::before {content: \"\";position: absolute;border-left: 1px solid gray;box-sizing: border-box;top: 0;bottom: 0;left: 50%;z-index: -1;}#sk-container-id-1 div.sk-parallel-item {display: flex;flex-direction: column;z-index: 1;position: relative;background-color: white;}#sk-container-id-1 div.sk-parallel-item:first-child::after {align-self: flex-end;width: 50%;}#sk-container-id-1 div.sk-parallel-item:last-child::after {align-self: flex-start;width: 50%;}#sk-container-id-1 div.sk-parallel-item:only-child::after {width: 0;}#sk-container-id-1 div.sk-dashed-wrapped {border: 1px dashed gray;margin: 0 0.4em 0.5em 0.4em;box-sizing: border-box;padding-bottom: 0.4em;background-color: white;}#sk-container-id-1 div.sk-label label {font-family: monospace;font-weight: bold;display: inline-block;line-height: 1.2em;}#sk-container-id-1 div.sk-label-container {text-align: center;}#sk-container-id-1 div.sk-container {/* jupyter's `normalize.less` sets `[hidden] { display: none; }` but bootstrap.min.css set `[hidden] { display: none !important; }` so we also need the `!important` here to be able to override the default hidden behavior on the sphinx rendered scikit-learn.org. See: https://github.com/scikit-learn/scikit-learn/issues/21755 */display: inline-block !important;position: relative;}#sk-container-id-1 div.sk-text-repr-fallback {display: none;}</style><div id=\"sk-container-id-1\" class=\"sk-top-container\"><div class=\"sk-text-repr-fallback\"><pre>LinearRegression()</pre><b>In a Jupyter environment, please rerun this cell to show the HTML representation or trust the notebook. <br />On GitHub, the HTML representation is unable to render, please try loading this page with nbviewer.org.</b></div><div class=\"sk-container\" hidden><div class=\"sk-item\"><div class=\"sk-estimator sk-toggleable\"><input class=\"sk-toggleable__control sk-hidden--visually\" id=\"sk-estimator-id-1\" type=\"checkbox\" checked><label for=\"sk-estimator-id-1\" class=\"sk-toggleable__label sk-toggleable__label-arrow\">LinearRegression</label><div class=\"sk-toggleable__content\"><pre>LinearRegression()</pre></div></div></div></div></div>"
      ],
      "text/plain": [
       "LinearRegression()"
      ]
     },
     "execution_count": 13,
     "metadata": {},
     "output_type": "execute_result"
    }
   ],
   "source": [
    "model=LinearRegression()\n",
    "model.fit(X_trainPoly,trainY)"
   ]
  },
  {
   "cell_type": "code",
   "execution_count": 14,
   "metadata": {},
   "outputs": [
    {
     "data": {
      "text/plain": [
       "array([138.71394896, 112.73955389, 124.48972552, 139.01064506,\n",
       "       139.82145933, 140.68314242,  37.23876256,  42.31549058,\n",
       "        39.00472728])"
      ]
     },
     "execution_count": 14,
     "metadata": {},
     "output_type": "execute_result"
    }
   ],
   "source": [
    "y_trainPred=model.predict(X_trainPoly)\n",
    "y_testPred=model.predict(X_testPoly)\n",
    "y_testPred"
   ]
  },
  {
   "cell_type": "code",
   "execution_count": 15,
   "metadata": {},
   "outputs": [
    {
     "data": {
      "text/plain": [
       "0.9847731889431075"
      ]
     },
     "execution_count": 15,
     "metadata": {},
     "output_type": "execute_result"
    }
   ],
   "source": [
    "r2=r2_score(y_testPred,testY)\n",
    "r2"
   ]
  },
  {
   "cell_type": "code",
   "execution_count": 16,
   "metadata": {},
   "outputs": [
    {
     "data": {
      "text/plain": [
       "30.434295210394534"
      ]
     },
     "execution_count": 16,
     "metadata": {},
     "output_type": "execute_result"
    }
   ],
   "source": [
    "mse=mean_squared_error(testY,y_testPred)\n",
    "mse\n"
   ]
  },
  {
   "cell_type": "code",
   "execution_count": 17,
   "metadata": {},
   "outputs": [
    {
     "data": {
      "image/png": "[encoded data removed]",
      "text/plain": [
       "<Figure size 432x288 with 1 Axes>"
      ]
     },
     "metadata": {
      "needs_background": "light"
     },
     "output_type": "display_data"
    }
   ],
   "source": [
    "plt.scatter(x,y,color=\"blue\",label=\"True data\")\n",
    "plt.plot(x,model.predict(poly.transform(x)),color=\"red\",label=\"Polynomial\")\n",
    "plt.legend()\n",
    "plt.show()"
   ]
  },
  {
   "cell_type": "code",
   "execution_count": 18,
   "metadata": {},
   "outputs": [
    {
     "data": {
      "text/html": [
       "<div>\n",
       "<style scoped>\n",
       "    .dataframe tbody tr th:only-of-type {\n",
       "        vertical-align: middle;\n",
       "    }\n",
       "\n",
       "    .dataframe tbody tr th {\n",
       "        vertical-align: top;\n",
       "    }\n",
       "\n",
       "    .dataframe thead th {\n",
       "        text-align: right;\n",
       "    }\n",
       "</style>\n",
       "<table border=\"1\" class=\"dataframe\">\n",
       "  <thead>\n",
       "    <tr style=\"text-align: right;\">\n",
       "      <th></th>\n",
       "      <th>No.Of.Banks.Using.Upi</th>\n",
       "      <th>Volume.Of.Transaction.in.Mn</th>\n",
       "      <th>Amount.Of.Transaction.In.Bn</th>\n",
       "    </tr>\n",
       "  </thead>\n",
       "  <tbody>\n",
       "    <tr>\n",
       "      <th>No.Of.Banks.Using.Upi</th>\n",
       "      <td>1.000000</td>\n",
       "      <td>0.881116</td>\n",
       "      <td>0.886029</td>\n",
       "    </tr>\n",
       "    <tr>\n",
       "      <th>Volume.Of.Transaction.in.Mn</th>\n",
       "      <td>0.881116</td>\n",
       "      <td>1.000000</td>\n",
       "      <td>0.994077</td>\n",
       "    </tr>\n",
       "    <tr>\n",
       "      <th>Amount.Of.Transaction.In.Bn</th>\n",
       "      <td>0.886029</td>\n",
       "      <td>0.994077</td>\n",
       "      <td>1.000000</td>\n",
       "    </tr>\n",
       "  </tbody>\n",
       "</table>\n",
       "</div>"
      ],
      "text/plain": [
       "                             No.Of.Banks.Using.Upi  \\\n",
       "No.Of.Banks.Using.Upi                     1.000000   \n",
       "Volume.Of.Transaction.in.Mn               0.881116   \n",
       "Amount.Of.Transaction.In.Bn               0.886029   \n",
       "\n",
       "                             Volume.Of.Transaction.in.Mn  \\\n",
       "No.Of.Banks.Using.Upi                           0.881116   \n",
       "Volume.Of.Transaction.in.Mn                     1.000000   \n",
       "Amount.Of.Transaction.In.Bn                     0.994077   \n",
       "\n",
       "                             Amount.Of.Transaction.In.Bn  \n",
       "No.Of.Banks.Using.Upi                           0.886029  \n",
       "Volume.Of.Transaction.in.Mn                     0.994077  \n",
       "Amount.Of.Transaction.In.Bn                     1.000000  "
      ]
     },
     "execution_count": 18,
     "metadata": {},
     "output_type": "execute_result"
    }
   ],
   "source": [
    "df2=df.drop(['Month-Year'],axis=1)\n",
    "df2.corr()"
   ]
  },
  {
   "cell_type": "code",
   "execution_count": null,
   "metadata": {},
   "outputs": [],
   "source": []
  }
 ],
 "metadata": {
  "kernelspec": {
   "display_name": "Python 3",
   "language": "python",
   "name": "python3"
  },
  "language_info": {
   "codemirror_mode": {
    "name": "ipython",
    "version": 3
   },
   "file_extension": ".py",
   "mimetype": "text/x-python",
   "name": "python",
   "nbconvert_exporter": "python",
   "pygments_lexer": "ipython3",
   "version": "3.10.5"
  },
  "orig_nbformat": 4
 },
 "nbformat": 4,
 "nbformat_minor": 2
}
